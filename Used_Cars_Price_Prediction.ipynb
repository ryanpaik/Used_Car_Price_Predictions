{
 "cells": [
  {
   "cell_type": "markdown",
   "metadata": {},
   "source": [
    "# Used Car Price Prediction"
   ]
  },
  {
   "cell_type": "markdown",
   "metadata": {},
   "source": [
    "This notebook uses 2 datasets obtained from Kaggle that uses the MSRP of new vehicles and values of used cars with certain conditions based on by the seller. The price of value vehicles are going to predicted based on the condition of their features. This model will help future vehicle sellers and buyers have an estimated price to be more efficient in selling and buying. "
   ]
  },
  {
   "cell_type": "markdown",
   "metadata": {},
   "source": [
    "All the modules and packages that will be used in this notebook can be seen here."
   ]
  },
  {
   "cell_type": "code",
   "execution_count": 1,
   "metadata": {},
   "outputs": [],
   "source": [
    "import pandas as pd\n",
    "import matplotlib.pyplot as plt\n",
    "import seaborn as sns\n",
    "import os\n",
    "import numpy as np \n",
    "import statsmodels.api as sm \n",
    "from statsmodels.graphics.api import abline_plot \n",
    "from sklearn.metrics import mean_squared_error, r2_score\n",
    "from sklearn.model_selection import train_test_split \n",
    "from sklearn import linear_model, preprocessing\n",
    "from scipy.stats import iqr\n",
    "from sklearn import ensemble"
   ]
  },
  {
   "cell_type": "code",
   "execution_count": 2,
   "metadata": {},
   "outputs": [
    {
     "name": "stderr",
     "output_type": "stream",
     "text": [
      "C:\\Users\\ryanp\\anaconda3\\lib\\site-packages\\IPython\\core\\interactiveshell.py:3063: DtypeWarning: Columns (15,16,55) have mixed types.Specify dtype option on import or set low_memory=False.\n",
      "  interactivity=interactivity, compiler=compiler, result=result)\n"
     ]
    }
   ],
   "source": [
    "new_car = pd.read_csv(r\"C:/Users/ryanp/Desktop/Springboard/Springboard/New_cars_price.csv\")\n",
    "used_car = pd.read_csv(r\"C:/Users/ryanp/Desktop/Springboard/Springboard/vehicles.csv\", index_col = 0)"
   ]
  },
  {
   "cell_type": "markdown",
   "metadata": {},
   "source": [
    "### **New Car Data**"
   ]
  },
  {
   "cell_type": "code",
   "execution_count": 3,
   "metadata": {},
   "outputs": [
    {
     "data": {
      "text/plain": [
       "(32316, 57)"
      ]
     },
     "execution_count": 3,
     "metadata": {},
     "output_type": "execute_result"
    }
   ],
   "source": [
    "new_car.shape"
   ]
  },
  {
   "cell_type": "markdown",
   "metadata": {},
   "source": [
    "The new vehicle dataset contains 32,316 rows and 57 columns. "
   ]
  },
  {
   "cell_type": "code",
   "execution_count": 4,
   "metadata": {},
   "outputs": [
    {
     "name": "stdout",
     "output_type": "stream",
     "text": [
      "<class 'pandas.core.frame.DataFrame'>\n",
      "RangeIndex: 32316 entries, 0 to 32315\n",
      "Data columns (total 57 columns):\n",
      " #   Column                                Non-Null Count  Dtype  \n",
      "---  ------                                --------------  -----  \n",
      " 0   Model                                 32316 non-null  object \n",
      " 1   MSRP                                  32262 non-null  object \n",
      " 2   EPA Fuel Economy Est - City (MPG)     27027 non-null  object \n",
      " 3   Engine                                30341 non-null  object \n",
      " 4   EPA Classification                    19866 non-null  object \n",
      " 5   Style Name                            32316 non-null  object \n",
      " 6   Drivetrain                            30600 non-null  object \n",
      " 7   Passenger Capacity                    32316 non-null  int64  \n",
      " 8   Passenger Doors                       32316 non-null  int64  \n",
      " 9   Body Style                            30600 non-null  object \n",
      " 10  Transmission                          29602 non-null  object \n",
      " 11  Base Curb Weight (lbs)                19456 non-null  object \n",
      " 12  Passenger Volume (ft³)                16756 non-null  float64\n",
      " 13  Wheelbase (in)                        30301 non-null  float64\n",
      " 14  Track Width, Front (in)               20130 non-null  float64\n",
      " 15  Height, Overall (in)                  30153 non-null  object \n",
      " 16  Fuel Tank Capacity, Approx (gal)      30148 non-null  object \n",
      " 17  SAE Net Torque @ RPM                  30249 non-null  object \n",
      " 18  Fuel System                           29486 non-null  object \n",
      " 19  SAE Net Horsepower @ RPM              30304 non-null  object \n",
      " 20  Displacement                          30173 non-null  object \n",
      " 21  Trans Description Cont.               30279 non-null  object \n",
      " 22  Trans Type                            30335 non-null  object \n",
      " 23  Brake Type                            30281 non-null  object \n",
      " 24  Steering Type                         30305 non-null  object \n",
      " 25  Suspension Type - Front               30176 non-null  object \n",
      " 26  Suspension Type - Rear                30128 non-null  object \n",
      " 27  Air Bag-Frontal-Driver                32316 non-null  object \n",
      " 28  Air Bag-Frontal-Passenger             32316 non-null  object \n",
      " 29  Air Bag-Passenger Switch (On/Off)     32316 non-null  object \n",
      " 30  Air Bag-Side Body-Front               32316 non-null  object \n",
      " 31  Air Bag-Side Body-Rear                32316 non-null  object \n",
      " 32  Air Bag-Side Head-Front               32316 non-null  object \n",
      " 33  Air Bag-Side Head-Rear                32316 non-null  object \n",
      " 34  Brakes-ABS                            32316 non-null  object \n",
      " 35  Child Safety Rear Door Locks          32316 non-null  object \n",
      " 36  Daytime Running Lights                32316 non-null  object \n",
      " 37  Traction Control                      32316 non-null  object \n",
      " 38  Night Vision                          32316 non-null  object \n",
      " 39  Rollover Protection Bars              32316 non-null  object \n",
      " 40  Fog Lamps                             32316 non-null  object \n",
      " 41  Parking Aid                           32316 non-null  object \n",
      " 42  Tire Pressure Monitor                 32316 non-null  object \n",
      " 43  Back-Up Camera                        32316 non-null  object \n",
      " 44  Stability Control                     32316 non-null  object \n",
      " 45  Basic Miles/km                        30199 non-null  object \n",
      " 46  Basic Years                           30199 non-null  float64\n",
      " 47  Corrosion Miles/km                    29312 non-null  object \n",
      " 48  Corrosion Years                       29350 non-null  float64\n",
      " 49  Drivetrain Miles/km                   29528 non-null  object \n",
      " 50  Drivetrain Years                      29528 non-null  object \n",
      " 51  Turning Diameter - Curb to Curb (ft)  28885 non-null  object \n",
      " 52  Front Wheel Material                  30333 non-null  object \n",
      " 53  Front Tire Size                       30328 non-null  object \n",
      " 54  Stabilizer Bar Diameter - Front (in)  11257 non-null  float64\n",
      " 55  Roadside Assistance Years             25296 non-null  object \n",
      " 56  Roadside Assistance Miles/km          25293 non-null  object \n",
      "dtypes: float64(6), int64(2), object(49)\n",
      "memory usage: 14.1+ MB\n"
     ]
    }
   ],
   "source": [
    "new_car.info()"
   ]
  },
  {
   "cell_type": "code",
   "execution_count": 5,
   "metadata": {},
   "outputs": [
    {
     "data": {
      "text/html": [
       "<div>\n",
       "<style scoped>\n",
       "    .dataframe tbody tr th:only-of-type {\n",
       "        vertical-align: middle;\n",
       "    }\n",
       "\n",
       "    .dataframe tbody tr th {\n",
       "        vertical-align: top;\n",
       "    }\n",
       "\n",
       "    .dataframe thead th {\n",
       "        text-align: right;\n",
       "    }\n",
       "</style>\n",
       "<table border=\"1\" class=\"dataframe\">\n",
       "  <thead>\n",
       "    <tr style=\"text-align: right;\">\n",
       "      <th></th>\n",
       "      <th>Model</th>\n",
       "      <th>MSRP</th>\n",
       "      <th>EPA Fuel Economy Est - City (MPG)</th>\n",
       "      <th>Engine</th>\n",
       "      <th>EPA Classification</th>\n",
       "      <th>Style Name</th>\n",
       "      <th>Drivetrain</th>\n",
       "      <th>Passenger Capacity</th>\n",
       "      <th>Passenger Doors</th>\n",
       "      <th>Body Style</th>\n",
       "      <th>...</th>\n",
       "      <th>Corrosion Miles/km</th>\n",
       "      <th>Corrosion Years</th>\n",
       "      <th>Drivetrain Miles/km</th>\n",
       "      <th>Drivetrain Years</th>\n",
       "      <th>Turning Diameter - Curb to Curb (ft)</th>\n",
       "      <th>Front Wheel Material</th>\n",
       "      <th>Front Tire Size</th>\n",
       "      <th>Stabilizer Bar Diameter - Front (in)</th>\n",
       "      <th>Roadside Assistance Years</th>\n",
       "      <th>Roadside Assistance Miles/km</th>\n",
       "    </tr>\n",
       "  </thead>\n",
       "  <tbody>\n",
       "    <tr>\n",
       "      <th>0</th>\n",
       "      <td>2019 Acura RDX Specs: FWD w/Technology Pkg</td>\n",
       "      <td>$40,600</td>\n",
       "      <td>22</td>\n",
       "      <td>Turbo Premium Unleaded I-4, 2.0 L</td>\n",
       "      <td>Small Sport Utility Vehicles 2WD</td>\n",
       "      <td>FWD w/Technology Pkg</td>\n",
       "      <td>Front Wheel Drive</td>\n",
       "      <td>5</td>\n",
       "      <td>4</td>\n",
       "      <td>Sport Utility</td>\n",
       "      <td>...</td>\n",
       "      <td>Unlimited</td>\n",
       "      <td>5.0</td>\n",
       "      <td>70,000</td>\n",
       "      <td>6.0</td>\n",
       "      <td>39</td>\n",
       "      <td>Aluminum</td>\n",
       "      <td>P235/55HR19</td>\n",
       "      <td>NaN</td>\n",
       "      <td>4</td>\n",
       "      <td>50,000</td>\n",
       "    </tr>\n",
       "    <tr>\n",
       "      <th>1</th>\n",
       "      <td>2019 Acura RDX Specs: FWD w/Advance Pkg</td>\n",
       "      <td>$45,500</td>\n",
       "      <td>22</td>\n",
       "      <td>Turbo Premium Unleaded I-4, 2.0 L</td>\n",
       "      <td>Small Sport Utility Vehicles 2WD</td>\n",
       "      <td>FWD w/Advance Pkg</td>\n",
       "      <td>Front Wheel Drive</td>\n",
       "      <td>5</td>\n",
       "      <td>4</td>\n",
       "      <td>Sport Utility</td>\n",
       "      <td>...</td>\n",
       "      <td>Unlimited</td>\n",
       "      <td>5.0</td>\n",
       "      <td>70,000</td>\n",
       "      <td>6.0</td>\n",
       "      <td>39</td>\n",
       "      <td>Aluminum</td>\n",
       "      <td>P235/55HR19</td>\n",
       "      <td>NaN</td>\n",
       "      <td>4</td>\n",
       "      <td>50,000</td>\n",
       "    </tr>\n",
       "    <tr>\n",
       "      <th>2</th>\n",
       "      <td>2019 Acura RDX Specs: FWD w/A-Spec Pkg</td>\n",
       "      <td>$43,600</td>\n",
       "      <td>22</td>\n",
       "      <td>Turbo Premium Unleaded I-4, 2.0 L</td>\n",
       "      <td>Small Sport Utility Vehicles 2WD</td>\n",
       "      <td>FWD w/A-Spec Pkg</td>\n",
       "      <td>Front Wheel Drive</td>\n",
       "      <td>5</td>\n",
       "      <td>4</td>\n",
       "      <td>Sport Utility</td>\n",
       "      <td>...</td>\n",
       "      <td>Unlimited</td>\n",
       "      <td>5.0</td>\n",
       "      <td>70,000</td>\n",
       "      <td>6.0</td>\n",
       "      <td>39</td>\n",
       "      <td>Aluminum</td>\n",
       "      <td>P255/45VR20</td>\n",
       "      <td>NaN</td>\n",
       "      <td>4</td>\n",
       "      <td>50,000</td>\n",
       "    </tr>\n",
       "    <tr>\n",
       "      <th>3</th>\n",
       "      <td>2019 Acura RDX Specs: FWD</td>\n",
       "      <td>$37,400</td>\n",
       "      <td>22</td>\n",
       "      <td>Turbo Premium Unleaded I-4, 2.0 L</td>\n",
       "      <td>Small Sport Utility Vehicles 2WD</td>\n",
       "      <td>FWD</td>\n",
       "      <td>Front Wheel Drive</td>\n",
       "      <td>5</td>\n",
       "      <td>4</td>\n",
       "      <td>Sport Utility</td>\n",
       "      <td>...</td>\n",
       "      <td>Unlimited</td>\n",
       "      <td>5.0</td>\n",
       "      <td>70,000</td>\n",
       "      <td>6.0</td>\n",
       "      <td>39</td>\n",
       "      <td>Aluminum</td>\n",
       "      <td>P235/55HR19</td>\n",
       "      <td>NaN</td>\n",
       "      <td>4</td>\n",
       "      <td>50,000</td>\n",
       "    </tr>\n",
       "    <tr>\n",
       "      <th>4</th>\n",
       "      <td>2019 Acura RDX Specs: AWD w/Technology Pkg</td>\n",
       "      <td>$42,600</td>\n",
       "      <td>21</td>\n",
       "      <td>Turbo Premium Unleaded I-4, 2.0 L</td>\n",
       "      <td>Small Sport Utility Vehicles 4WD</td>\n",
       "      <td>AWD w/Technology Pkg</td>\n",
       "      <td>All Wheel Drive</td>\n",
       "      <td>5</td>\n",
       "      <td>4</td>\n",
       "      <td>Sport Utility</td>\n",
       "      <td>...</td>\n",
       "      <td>Unlimited</td>\n",
       "      <td>5.0</td>\n",
       "      <td>70,000</td>\n",
       "      <td>6.0</td>\n",
       "      <td>39</td>\n",
       "      <td>Aluminum</td>\n",
       "      <td>P235/55HR19</td>\n",
       "      <td>NaN</td>\n",
       "      <td>4</td>\n",
       "      <td>50,000</td>\n",
       "    </tr>\n",
       "  </tbody>\n",
       "</table>\n",
       "<p>5 rows × 57 columns</p>\n",
       "</div>"
      ],
      "text/plain": [
       "                                        Model     MSRP  \\\n",
       "0  2019 Acura RDX Specs: FWD w/Technology Pkg  $40,600   \n",
       "1     2019 Acura RDX Specs: FWD w/Advance Pkg  $45,500   \n",
       "2      2019 Acura RDX Specs: FWD w/A-Spec Pkg  $43,600   \n",
       "3                   2019 Acura RDX Specs: FWD  $37,400   \n",
       "4  2019 Acura RDX Specs: AWD w/Technology Pkg  $42,600   \n",
       "\n",
       "  EPA Fuel Economy Est - City (MPG)                             Engine  \\\n",
       "0                                22  Turbo Premium Unleaded I-4, 2.0 L   \n",
       "1                                22  Turbo Premium Unleaded I-4, 2.0 L   \n",
       "2                                22  Turbo Premium Unleaded I-4, 2.0 L   \n",
       "3                                22  Turbo Premium Unleaded I-4, 2.0 L   \n",
       "4                                21  Turbo Premium Unleaded I-4, 2.0 L   \n",
       "\n",
       "                 EPA Classification            Style Name         Drivetrain  \\\n",
       "0  Small Sport Utility Vehicles 2WD  FWD w/Technology Pkg  Front Wheel Drive   \n",
       "1  Small Sport Utility Vehicles 2WD     FWD w/Advance Pkg  Front Wheel Drive   \n",
       "2  Small Sport Utility Vehicles 2WD      FWD w/A-Spec Pkg  Front Wheel Drive   \n",
       "3  Small Sport Utility Vehicles 2WD                   FWD  Front Wheel Drive   \n",
       "4  Small Sport Utility Vehicles 4WD  AWD w/Technology Pkg    All Wheel Drive   \n",
       "\n",
       "   Passenger Capacity  Passenger Doors     Body Style  ... Corrosion Miles/km  \\\n",
       "0                   5                4  Sport Utility  ...          Unlimited   \n",
       "1                   5                4  Sport Utility  ...          Unlimited   \n",
       "2                   5                4  Sport Utility  ...          Unlimited   \n",
       "3                   5                4  Sport Utility  ...          Unlimited   \n",
       "4                   5                4  Sport Utility  ...          Unlimited   \n",
       "\n",
       "  Corrosion Years  Drivetrain Miles/km  Drivetrain Years  \\\n",
       "0             5.0               70,000               6.0   \n",
       "1             5.0               70,000               6.0   \n",
       "2             5.0               70,000               6.0   \n",
       "3             5.0               70,000               6.0   \n",
       "4             5.0               70,000               6.0   \n",
       "\n",
       "   Turning Diameter - Curb to Curb (ft) Front Wheel Material Front Tire Size  \\\n",
       "0                                    39             Aluminum     P235/55HR19   \n",
       "1                                    39             Aluminum     P235/55HR19   \n",
       "2                                    39             Aluminum     P255/45VR20   \n",
       "3                                    39             Aluminum     P235/55HR19   \n",
       "4                                    39             Aluminum     P235/55HR19   \n",
       "\n",
       "  Stabilizer Bar Diameter - Front (in) Roadside Assistance Years  \\\n",
       "0                                  NaN                         4   \n",
       "1                                  NaN                         4   \n",
       "2                                  NaN                         4   \n",
       "3                                  NaN                         4   \n",
       "4                                  NaN                         4   \n",
       "\n",
       "  Roadside Assistance Miles/km  \n",
       "0                       50,000  \n",
       "1                       50,000  \n",
       "2                       50,000  \n",
       "3                       50,000  \n",
       "4                       50,000  \n",
       "\n",
       "[5 rows x 57 columns]"
      ]
     },
     "execution_count": 5,
     "metadata": {},
     "output_type": "execute_result"
    }
   ],
   "source": [
    "new_car.head()"
   ]
  },
  {
   "cell_type": "code",
   "execution_count": 6,
   "metadata": {},
   "outputs": [
    {
     "data": {
      "text/html": [
       "<div>\n",
       "<style scoped>\n",
       "    .dataframe tbody tr th:only-of-type {\n",
       "        vertical-align: middle;\n",
       "    }\n",
       "\n",
       "    .dataframe tbody tr th {\n",
       "        vertical-align: top;\n",
       "    }\n",
       "\n",
       "    .dataframe thead th {\n",
       "        text-align: right;\n",
       "    }\n",
       "</style>\n",
       "<table border=\"1\" class=\"dataframe\">\n",
       "  <thead>\n",
       "    <tr style=\"text-align: right;\">\n",
       "      <th></th>\n",
       "      <th>count</th>\n",
       "      <th>%</th>\n",
       "    </tr>\n",
       "  </thead>\n",
       "  <tbody>\n",
       "    <tr>\n",
       "      <th>Model</th>\n",
       "      <td>0</td>\n",
       "      <td>0.000000</td>\n",
       "    </tr>\n",
       "    <tr>\n",
       "      <th>Air Bag-Side Body-Front</th>\n",
       "      <td>0</td>\n",
       "      <td>0.000000</td>\n",
       "    </tr>\n",
       "    <tr>\n",
       "      <th>Air Bag-Side Body-Rear</th>\n",
       "      <td>0</td>\n",
       "      <td>0.000000</td>\n",
       "    </tr>\n",
       "    <tr>\n",
       "      <th>Air Bag-Side Head-Front</th>\n",
       "      <td>0</td>\n",
       "      <td>0.000000</td>\n",
       "    </tr>\n",
       "    <tr>\n",
       "      <th>Air Bag-Side Head-Rear</th>\n",
       "      <td>0</td>\n",
       "      <td>0.000000</td>\n",
       "    </tr>\n",
       "    <tr>\n",
       "      <th>Brakes-ABS</th>\n",
       "      <td>0</td>\n",
       "      <td>0.000000</td>\n",
       "    </tr>\n",
       "    <tr>\n",
       "      <th>Child Safety Rear Door Locks</th>\n",
       "      <td>0</td>\n",
       "      <td>0.000000</td>\n",
       "    </tr>\n",
       "    <tr>\n",
       "      <th>Daytime Running Lights</th>\n",
       "      <td>0</td>\n",
       "      <td>0.000000</td>\n",
       "    </tr>\n",
       "    <tr>\n",
       "      <th>Traction Control</th>\n",
       "      <td>0</td>\n",
       "      <td>0.000000</td>\n",
       "    </tr>\n",
       "    <tr>\n",
       "      <th>Night Vision</th>\n",
       "      <td>0</td>\n",
       "      <td>0.000000</td>\n",
       "    </tr>\n",
       "    <tr>\n",
       "      <th>Rollover Protection Bars</th>\n",
       "      <td>0</td>\n",
       "      <td>0.000000</td>\n",
       "    </tr>\n",
       "    <tr>\n",
       "      <th>Fog Lamps</th>\n",
       "      <td>0</td>\n",
       "      <td>0.000000</td>\n",
       "    </tr>\n",
       "    <tr>\n",
       "      <th>Parking Aid</th>\n",
       "      <td>0</td>\n",
       "      <td>0.000000</td>\n",
       "    </tr>\n",
       "    <tr>\n",
       "      <th>Tire Pressure Monitor</th>\n",
       "      <td>0</td>\n",
       "      <td>0.000000</td>\n",
       "    </tr>\n",
       "    <tr>\n",
       "      <th>Back-Up Camera</th>\n",
       "      <td>0</td>\n",
       "      <td>0.000000</td>\n",
       "    </tr>\n",
       "    <tr>\n",
       "      <th>Stability Control</th>\n",
       "      <td>0</td>\n",
       "      <td>0.000000</td>\n",
       "    </tr>\n",
       "    <tr>\n",
       "      <th>Air Bag-Passenger Switch (On/Off)</th>\n",
       "      <td>0</td>\n",
       "      <td>0.000000</td>\n",
       "    </tr>\n",
       "    <tr>\n",
       "      <th>Air Bag-Frontal-Driver</th>\n",
       "      <td>0</td>\n",
       "      <td>0.000000</td>\n",
       "    </tr>\n",
       "    <tr>\n",
       "      <th>Air Bag-Frontal-Passenger</th>\n",
       "      <td>0</td>\n",
       "      <td>0.000000</td>\n",
       "    </tr>\n",
       "    <tr>\n",
       "      <th>Passenger Doors</th>\n",
       "      <td>0</td>\n",
       "      <td>0.000000</td>\n",
       "    </tr>\n",
       "    <tr>\n",
       "      <th>Style Name</th>\n",
       "      <td>0</td>\n",
       "      <td>0.000000</td>\n",
       "    </tr>\n",
       "    <tr>\n",
       "      <th>Passenger Capacity</th>\n",
       "      <td>0</td>\n",
       "      <td>0.000000</td>\n",
       "    </tr>\n",
       "    <tr>\n",
       "      <th>MSRP</th>\n",
       "      <td>54</td>\n",
       "      <td>0.167100</td>\n",
       "    </tr>\n",
       "    <tr>\n",
       "      <th>Drivetrain</th>\n",
       "      <td>1716</td>\n",
       "      <td>5.310063</td>\n",
       "    </tr>\n",
       "    <tr>\n",
       "      <th>Body Style</th>\n",
       "      <td>1716</td>\n",
       "      <td>5.310063</td>\n",
       "    </tr>\n",
       "    <tr>\n",
       "      <th>Engine</th>\n",
       "      <td>1975</td>\n",
       "      <td>6.111524</td>\n",
       "    </tr>\n",
       "    <tr>\n",
       "      <th>Trans Type</th>\n",
       "      <td>1981</td>\n",
       "      <td>6.130090</td>\n",
       "    </tr>\n",
       "    <tr>\n",
       "      <th>Front Wheel Material</th>\n",
       "      <td>1983</td>\n",
       "      <td>6.136279</td>\n",
       "    </tr>\n",
       "    <tr>\n",
       "      <th>Front Tire Size</th>\n",
       "      <td>1988</td>\n",
       "      <td>6.151751</td>\n",
       "    </tr>\n",
       "    <tr>\n",
       "      <th>Steering Type</th>\n",
       "      <td>2011</td>\n",
       "      <td>6.222924</td>\n",
       "    </tr>\n",
       "    <tr>\n",
       "      <th>SAE Net Horsepower @ RPM</th>\n",
       "      <td>2012</td>\n",
       "      <td>6.226018</td>\n",
       "    </tr>\n",
       "    <tr>\n",
       "      <th>Wheelbase (in)</th>\n",
       "      <td>2015</td>\n",
       "      <td>6.235301</td>\n",
       "    </tr>\n",
       "    <tr>\n",
       "      <th>Brake Type</th>\n",
       "      <td>2035</td>\n",
       "      <td>6.297190</td>\n",
       "    </tr>\n",
       "    <tr>\n",
       "      <th>Trans Description Cont.</th>\n",
       "      <td>2037</td>\n",
       "      <td>6.303379</td>\n",
       "    </tr>\n",
       "    <tr>\n",
       "      <th>SAE Net Torque @ RPM</th>\n",
       "      <td>2067</td>\n",
       "      <td>6.396212</td>\n",
       "    </tr>\n",
       "    <tr>\n",
       "      <th>Basic Years</th>\n",
       "      <td>2117</td>\n",
       "      <td>6.550935</td>\n",
       "    </tr>\n",
       "    <tr>\n",
       "      <th>Basic Miles/km</th>\n",
       "      <td>2117</td>\n",
       "      <td>6.550935</td>\n",
       "    </tr>\n",
       "    <tr>\n",
       "      <th>Suspension Type - Front</th>\n",
       "      <td>2140</td>\n",
       "      <td>6.622107</td>\n",
       "    </tr>\n",
       "    <tr>\n",
       "      <th>Displacement</th>\n",
       "      <td>2143</td>\n",
       "      <td>6.631390</td>\n",
       "    </tr>\n",
       "    <tr>\n",
       "      <th>Height, Overall (in)</th>\n",
       "      <td>2163</td>\n",
       "      <td>6.693279</td>\n",
       "    </tr>\n",
       "    <tr>\n",
       "      <th>Fuel Tank Capacity, Approx (gal)</th>\n",
       "      <td>2168</td>\n",
       "      <td>6.708751</td>\n",
       "    </tr>\n",
       "    <tr>\n",
       "      <th>Suspension Type - Rear</th>\n",
       "      <td>2188</td>\n",
       "      <td>6.770640</td>\n",
       "    </tr>\n",
       "    <tr>\n",
       "      <th>Transmission</th>\n",
       "      <td>2714</td>\n",
       "      <td>8.398317</td>\n",
       "    </tr>\n",
       "    <tr>\n",
       "      <th>Drivetrain Years</th>\n",
       "      <td>2788</td>\n",
       "      <td>8.627305</td>\n",
       "    </tr>\n",
       "    <tr>\n",
       "      <th>Drivetrain Miles/km</th>\n",
       "      <td>2788</td>\n",
       "      <td>8.627305</td>\n",
       "    </tr>\n",
       "    <tr>\n",
       "      <th>Fuel System</th>\n",
       "      <td>2830</td>\n",
       "      <td>8.757272</td>\n",
       "    </tr>\n",
       "    <tr>\n",
       "      <th>Corrosion Years</th>\n",
       "      <td>2966</td>\n",
       "      <td>9.178116</td>\n",
       "    </tr>\n",
       "    <tr>\n",
       "      <th>Corrosion Miles/km</th>\n",
       "      <td>3004</td>\n",
       "      <td>9.295705</td>\n",
       "    </tr>\n",
       "    <tr>\n",
       "      <th>Turning Diameter - Curb to Curb (ft)</th>\n",
       "      <td>3431</td>\n",
       "      <td>10.617032</td>\n",
       "    </tr>\n",
       "    <tr>\n",
       "      <th>EPA Fuel Economy Est - City (MPG)</th>\n",
       "      <td>5289</td>\n",
       "      <td>16.366506</td>\n",
       "    </tr>\n",
       "    <tr>\n",
       "      <th>Roadside Assistance Years</th>\n",
       "      <td>7020</td>\n",
       "      <td>21.722986</td>\n",
       "    </tr>\n",
       "    <tr>\n",
       "      <th>Roadside Assistance Miles/km</th>\n",
       "      <td>7023</td>\n",
       "      <td>21.732269</td>\n",
       "    </tr>\n",
       "    <tr>\n",
       "      <th>Track Width, Front (in)</th>\n",
       "      <td>12186</td>\n",
       "      <td>37.708875</td>\n",
       "    </tr>\n",
       "    <tr>\n",
       "      <th>EPA Classification</th>\n",
       "      <td>12450</td>\n",
       "      <td>38.525808</td>\n",
       "    </tr>\n",
       "    <tr>\n",
       "      <th>Base Curb Weight (lbs)</th>\n",
       "      <td>12860</td>\n",
       "      <td>39.794529</td>\n",
       "    </tr>\n",
       "    <tr>\n",
       "      <th>Passenger Volume (ft³)</th>\n",
       "      <td>15560</td>\n",
       "      <td>48.149523</td>\n",
       "    </tr>\n",
       "    <tr>\n",
       "      <th>Stabilizer Bar Diameter - Front (in)</th>\n",
       "      <td>21059</td>\n",
       "      <td>65.165862</td>\n",
       "    </tr>\n",
       "  </tbody>\n",
       "</table>\n",
       "</div>"
      ],
      "text/plain": [
       "                                      count          %\n",
       "Model                                     0   0.000000\n",
       "Air Bag-Side Body-Front                   0   0.000000\n",
       "Air Bag-Side Body-Rear                    0   0.000000\n",
       "Air Bag-Side Head-Front                   0   0.000000\n",
       "Air Bag-Side Head-Rear                    0   0.000000\n",
       "Brakes-ABS                                0   0.000000\n",
       "Child Safety Rear Door Locks              0   0.000000\n",
       "Daytime Running Lights                    0   0.000000\n",
       "Traction Control                          0   0.000000\n",
       "Night Vision                              0   0.000000\n",
       "Rollover Protection Bars                  0   0.000000\n",
       "Fog Lamps                                 0   0.000000\n",
       "Parking Aid                               0   0.000000\n",
       "Tire Pressure Monitor                     0   0.000000\n",
       "Back-Up Camera                            0   0.000000\n",
       "Stability Control                         0   0.000000\n",
       "Air Bag-Passenger Switch (On/Off)         0   0.000000\n",
       "Air Bag-Frontal-Driver                    0   0.000000\n",
       "Air Bag-Frontal-Passenger                 0   0.000000\n",
       "Passenger Doors                           0   0.000000\n",
       "Style Name                                0   0.000000\n",
       "Passenger Capacity                        0   0.000000\n",
       "MSRP                                     54   0.167100\n",
       "Drivetrain                             1716   5.310063\n",
       "Body Style                             1716   5.310063\n",
       "Engine                                 1975   6.111524\n",
       "Trans Type                             1981   6.130090\n",
       "Front Wheel Material                   1983   6.136279\n",
       "Front Tire Size                        1988   6.151751\n",
       "Steering Type                          2011   6.222924\n",
       "SAE Net Horsepower @ RPM               2012   6.226018\n",
       "Wheelbase (in)                         2015   6.235301\n",
       "Brake Type                             2035   6.297190\n",
       "Trans Description Cont.                2037   6.303379\n",
       "SAE Net Torque @ RPM                   2067   6.396212\n",
       "Basic Years                            2117   6.550935\n",
       "Basic Miles/km                         2117   6.550935\n",
       "Suspension Type - Front                2140   6.622107\n",
       "Displacement                           2143   6.631390\n",
       "Height, Overall (in)                   2163   6.693279\n",
       "Fuel Tank Capacity, Approx (gal)       2168   6.708751\n",
       "Suspension Type - Rear                 2188   6.770640\n",
       "Transmission                           2714   8.398317\n",
       "Drivetrain Years                       2788   8.627305\n",
       "Drivetrain Miles/km                    2788   8.627305\n",
       "Fuel System                            2830   8.757272\n",
       "Corrosion Years                        2966   9.178116\n",
       "Corrosion Miles/km                     3004   9.295705\n",
       "Turning Diameter - Curb to Curb (ft)   3431  10.617032\n",
       "EPA Fuel Economy Est - City (MPG)      5289  16.366506\n",
       "Roadside Assistance Years              7020  21.722986\n",
       "Roadside Assistance Miles/km           7023  21.732269\n",
       "Track Width, Front (in)               12186  37.708875\n",
       "EPA Classification                    12450  38.525808\n",
       "Base Curb Weight (lbs)                12860  39.794529\n",
       "Passenger Volume (ft³)                15560  48.149523\n",
       "Stabilizer Bar Diameter - Front (in)  21059  65.165862"
      ]
     },
     "execution_count": 6,
     "metadata": {},
     "output_type": "execute_result"
    }
   ],
   "source": [
    "missing_new = pd.concat([new_car.isnull().sum(), 100 * new_car.isnull().mean()], axis=1)\n",
    "missing_new.columns = ['count', '%']\n",
    "missing_new.sort_values(by='count')"
   ]
  },
  {
   "cell_type": "code",
   "execution_count": 7,
   "metadata": {},
   "outputs": [
    {
     "data": {
      "text/html": [
       "<div>\n",
       "<style scoped>\n",
       "    .dataframe tbody tr th:only-of-type {\n",
       "        vertical-align: middle;\n",
       "    }\n",
       "\n",
       "    .dataframe tbody tr th {\n",
       "        vertical-align: top;\n",
       "    }\n",
       "\n",
       "    .dataframe thead th {\n",
       "        text-align: right;\n",
       "    }\n",
       "</style>\n",
       "<table border=\"1\" class=\"dataframe\">\n",
       "  <thead>\n",
       "    <tr style=\"text-align: right;\">\n",
       "      <th></th>\n",
       "      <th>Model</th>\n",
       "      <th>MSRP</th>\n",
       "    </tr>\n",
       "  </thead>\n",
       "  <tbody>\n",
       "    <tr>\n",
       "      <th>0</th>\n",
       "      <td>2019 Acura RDX Specs: FWD w/Technology Pkg</td>\n",
       "      <td>$40,600</td>\n",
       "    </tr>\n",
       "    <tr>\n",
       "      <th>1</th>\n",
       "      <td>2019 Acura RDX Specs: FWD w/Advance Pkg</td>\n",
       "      <td>$45,500</td>\n",
       "    </tr>\n",
       "    <tr>\n",
       "      <th>2</th>\n",
       "      <td>2019 Acura RDX Specs: FWD w/A-Spec Pkg</td>\n",
       "      <td>$43,600</td>\n",
       "    </tr>\n",
       "    <tr>\n",
       "      <th>3</th>\n",
       "      <td>2019 Acura RDX Specs: FWD</td>\n",
       "      <td>$37,400</td>\n",
       "    </tr>\n",
       "    <tr>\n",
       "      <th>4</th>\n",
       "      <td>2019 Acura RDX Specs: AWD w/Technology Pkg</td>\n",
       "      <td>$42,600</td>\n",
       "    </tr>\n",
       "  </tbody>\n",
       "</table>\n",
       "</div>"
      ],
      "text/plain": [
       "                                        Model     MSRP\n",
       "0  2019 Acura RDX Specs: FWD w/Technology Pkg  $40,600\n",
       "1     2019 Acura RDX Specs: FWD w/Advance Pkg  $45,500\n",
       "2      2019 Acura RDX Specs: FWD w/A-Spec Pkg  $43,600\n",
       "3                   2019 Acura RDX Specs: FWD  $37,400\n",
       "4  2019 Acura RDX Specs: AWD w/Technology Pkg  $42,600"
      ]
     },
     "execution_count": 7,
     "metadata": {},
     "output_type": "execute_result"
    }
   ],
   "source": [
    "new_car.drop(new_car.columns.difference(['Model','MSRP']), 1, inplace=True)\n",
    "new_car.head()"
   ]
  },
  {
   "cell_type": "code",
   "execution_count": 8,
   "metadata": {},
   "outputs": [
    {
     "data": {
      "text/plain": [
       "(32316, 2)"
      ]
     },
     "execution_count": 8,
     "metadata": {},
     "output_type": "execute_result"
    }
   ],
   "source": [
    "new_car.shape"
   ]
  },
  {
   "cell_type": "markdown",
   "metadata": {},
   "source": [
    "The only data needed from this dataset is the MSRP value and the model of the vehicle. This will be used to compare to the used price vehicle to identify deprciation of the price after being used and change of conditions. "
   ]
  },
  {
   "cell_type": "code",
   "execution_count": 9,
   "metadata": {},
   "outputs": [
    {
     "data": {
      "text/plain": [
       "(32262, 2)"
      ]
     },
     "execution_count": 9,
     "metadata": {},
     "output_type": "execute_result"
    }
   ],
   "source": [
    "new_prices = new_car.dropna()\n",
    "new_prices.shape"
   ]
  },
  {
   "cell_type": "code",
   "execution_count": 10,
   "metadata": {},
   "outputs": [
    {
     "data": {
      "text/plain": [
       "Model    32262\n",
       "MSRP     10228\n",
       "dtype: int64"
      ]
     },
     "execution_count": 10,
     "metadata": {},
     "output_type": "execute_result"
    }
   ],
   "source": [
    "new_prices.nunique()"
   ]
  },
  {
   "cell_type": "code",
   "execution_count": 11,
   "metadata": {},
   "outputs": [
    {
     "name": "stdout",
     "output_type": "stream",
     "text": [
      "Model    0\n",
      "MSRP     0\n",
      "dtype: int64\n"
     ]
    }
   ],
   "source": [
    "print(new_prices.isnull().sum())"
   ]
  },
  {
   "cell_type": "code",
   "execution_count": 12,
   "metadata": {},
   "outputs": [
    {
     "name": "stderr",
     "output_type": "stream",
     "text": [
      "C:\\Users\\ryanp\\anaconda3\\lib\\site-packages\\ipykernel_launcher.py:1: SettingWithCopyWarning: \n",
      "A value is trying to be set on a copy of a slice from a DataFrame.\n",
      "Try using .loc[row_indexer,col_indexer] = value instead\n",
      "\n",
      "See the caveats in the documentation: https://pandas.pydata.org/pandas-docs/stable/user_guide/indexing.html#returning-a-view-versus-a-copy\n",
      "  \"\"\"Entry point for launching an IPython kernel.\n"
     ]
    }
   ],
   "source": [
    "new_prices['MSRP'] = new_prices['MSRP'].str.replace(\"$\", \"\").str.replace(\",\", \"\").astype(int)"
   ]
  },
  {
   "cell_type": "code",
   "execution_count": 13,
   "metadata": {},
   "outputs": [
    {
     "data": {
      "text/plain": [
       "0    40600\n",
       "1    45500\n",
       "2    43600\n",
       "3    37400\n",
       "4    42600\n",
       "Name: MSRP, dtype: int32"
      ]
     },
     "execution_count": 13,
     "metadata": {},
     "output_type": "execute_result"
    }
   ],
   "source": [
    "new_prices['MSRP'].head()"
   ]
  },
  {
   "cell_type": "code",
   "execution_count": 14,
   "metadata": {},
   "outputs": [
    {
     "data": {
      "text/plain": [
       "32311    2018 Volvo V60 Cross Country Specs: T5 AWD Pla...\n",
       "32312    2016 Volvo V60 Cross Country Specs: 4-Door Wag...\n",
       "32313    2016 Volvo V60 Cross Country Specs: 4-Door Wag...\n",
       "32314    2015 Volvo V60 Cross Country Specs: 2015.5 4-D...\n",
       "32315    2015 Volvo V60 Cross Country Specs: 2015.5 4-D...\n",
       "Name: Model, dtype: object"
      ]
     },
     "execution_count": 14,
     "metadata": {},
     "output_type": "execute_result"
    }
   ],
   "source": [
    "new_prices['Model'].tail()"
   ]
  },
  {
   "cell_type": "code",
   "execution_count": 15,
   "metadata": {},
   "outputs": [
    {
     "data": {
      "text/html": [
       "<div>\n",
       "<style scoped>\n",
       "    .dataframe tbody tr th:only-of-type {\n",
       "        vertical-align: middle;\n",
       "    }\n",
       "\n",
       "    .dataframe tbody tr th {\n",
       "        vertical-align: top;\n",
       "    }\n",
       "\n",
       "    .dataframe thead th {\n",
       "        text-align: right;\n",
       "    }\n",
       "</style>\n",
       "<table border=\"1\" class=\"dataframe\">\n",
       "  <thead>\n",
       "    <tr style=\"text-align: right;\">\n",
       "      <th></th>\n",
       "      <th>Model</th>\n",
       "      <th>MSRP</th>\n",
       "    </tr>\n",
       "  </thead>\n",
       "  <tbody>\n",
       "    <tr>\n",
       "      <th>0</th>\n",
       "      <td>2019 Acura RDX Specs: FWD w/Technology Pkg</td>\n",
       "      <td>40600</td>\n",
       "    </tr>\n",
       "    <tr>\n",
       "      <th>1</th>\n",
       "      <td>2019 Acura RDX Specs: FWD w/Advance Pkg</td>\n",
       "      <td>45500</td>\n",
       "    </tr>\n",
       "    <tr>\n",
       "      <th>2</th>\n",
       "      <td>2019 Acura RDX Specs: FWD w/A-Spec Pkg</td>\n",
       "      <td>43600</td>\n",
       "    </tr>\n",
       "    <tr>\n",
       "      <th>3</th>\n",
       "      <td>2019 Acura RDX Specs: FWD</td>\n",
       "      <td>37400</td>\n",
       "    </tr>\n",
       "    <tr>\n",
       "      <th>4</th>\n",
       "      <td>2019 Acura RDX Specs: AWD w/Technology Pkg</td>\n",
       "      <td>42600</td>\n",
       "    </tr>\n",
       "  </tbody>\n",
       "</table>\n",
       "</div>"
      ],
      "text/plain": [
       "                                        Model   MSRP\n",
       "0  2019 Acura RDX Specs: FWD w/Technology Pkg  40600\n",
       "1     2019 Acura RDX Specs: FWD w/Advance Pkg  45500\n",
       "2      2019 Acura RDX Specs: FWD w/A-Spec Pkg  43600\n",
       "3                   2019 Acura RDX Specs: FWD  37400\n",
       "4  2019 Acura RDX Specs: AWD w/Technology Pkg  42600"
      ]
     },
     "execution_count": 15,
     "metadata": {},
     "output_type": "execute_result"
    }
   ],
   "source": [
    "new_prices.head()"
   ]
  },
  {
   "cell_type": "code",
   "execution_count": 16,
   "metadata": {
    "scrolled": true
   },
   "outputs": [
    {
     "data": {
      "text/plain": [
       "array(['2019 Acura RDX Specs: FWD w/Technology Pkg',\n",
       "       '2019 Acura RDX Specs: FWD w/Advance Pkg',\n",
       "       '2019 Acura RDX Specs: FWD w/A-Spec Pkg', ...,\n",
       "       '2016 Volvo V60 Cross Country Specs: 4-Door Wagon T5 Platinum AWD',\n",
       "       '2015 Volvo V60 Cross Country Specs: 2015.5 4-Door Wagon T5 AWD',\n",
       "       '2015 Volvo V60 Cross Country Specs: 2015.5 4-Door Wagon T5 Platinum AWD'],\n",
       "      dtype=object)"
      ]
     },
     "execution_count": 16,
     "metadata": {},
     "output_type": "execute_result"
    }
   ],
   "source": [
    "new_model = new_prices['Model'].unique()\n",
    "new_model"
   ]
  },
  {
   "cell_type": "markdown",
   "metadata": {},
   "source": [
    "The data is cleaned up to easily be used for analysis as well as to merge the data with used car dataset. "
   ]
  },
  {
   "cell_type": "markdown",
   "metadata": {},
   "source": [
    "**Used Car Data**"
   ]
  },
  {
   "cell_type": "code",
   "execution_count": 17,
   "metadata": {},
   "outputs": [
    {
     "data": {
      "text/plain": [
       "(458213, 25)"
      ]
     },
     "execution_count": 17,
     "metadata": {},
     "output_type": "execute_result"
    }
   ],
   "source": [
    "used_car.shape"
   ]
  },
  {
   "cell_type": "markdown",
   "metadata": {},
   "source": [
    "The used car dataset is loaded and shows 458,213 rows and 25 columns. "
   ]
  },
  {
   "cell_type": "code",
   "execution_count": 18,
   "metadata": {},
   "outputs": [
    {
     "name": "stdout",
     "output_type": "stream",
     "text": [
      "<class 'pandas.core.frame.DataFrame'>\n",
      "Int64Index: 458213 entries, 0 to 458212\n",
      "Data columns (total 25 columns):\n",
      " #   Column        Non-Null Count   Dtype  \n",
      "---  ------        --------------   -----  \n",
      " 0   id            458213 non-null  int64  \n",
      " 1   url           458213 non-null  object \n",
      " 2   region        458213 non-null  object \n",
      " 3   region_url    458213 non-null  object \n",
      " 4   price         458213 non-null  int64  \n",
      " 5   year          457163 non-null  float64\n",
      " 6   manufacturer  439993 non-null  object \n",
      " 7   model         453367 non-null  object \n",
      " 8   condition     265273 non-null  object \n",
      " 9   cylinders     287073 non-null  object \n",
      " 10  fuel          454976 non-null  object \n",
      " 11  odometer      402910 non-null  float64\n",
      " 12  title_status  455636 non-null  object \n",
      " 13  transmission  455771 non-null  object \n",
      " 14  VIN           270664 non-null  object \n",
      " 15  drive         324025 non-null  object \n",
      " 16  size          136865 non-null  object \n",
      " 17  type          345475 non-null  object \n",
      " 18  paint_color   317370 non-null  object \n",
      " 19  image_url     458185 non-null  object \n",
      " 20  description   458143 non-null  object \n",
      " 21  state         458213 non-null  object \n",
      " 22  lat           450765 non-null  float64\n",
      " 23  long          450765 non-null  float64\n",
      " 24  posting_date  458185 non-null  object \n",
      "dtypes: float64(4), int64(2), object(19)\n",
      "memory usage: 90.9+ MB\n"
     ]
    }
   ],
   "source": [
    "used_car.info()"
   ]
  },
  {
   "cell_type": "code",
   "execution_count": 19,
   "metadata": {},
   "outputs": [
    {
     "data": {
      "text/html": [
       "<div>\n",
       "<style scoped>\n",
       "    .dataframe tbody tr th:only-of-type {\n",
       "        vertical-align: middle;\n",
       "    }\n",
       "\n",
       "    .dataframe tbody tr th {\n",
       "        vertical-align: top;\n",
       "    }\n",
       "\n",
       "    .dataframe thead th {\n",
       "        text-align: right;\n",
       "    }\n",
       "</style>\n",
       "<table border=\"1\" class=\"dataframe\">\n",
       "  <thead>\n",
       "    <tr style=\"text-align: right;\">\n",
       "      <th></th>\n",
       "      <th>id</th>\n",
       "      <th>url</th>\n",
       "      <th>region</th>\n",
       "      <th>region_url</th>\n",
       "      <th>price</th>\n",
       "      <th>year</th>\n",
       "      <th>manufacturer</th>\n",
       "      <th>model</th>\n",
       "      <th>condition</th>\n",
       "      <th>cylinders</th>\n",
       "      <th>...</th>\n",
       "      <th>drive</th>\n",
       "      <th>size</th>\n",
       "      <th>type</th>\n",
       "      <th>paint_color</th>\n",
       "      <th>image_url</th>\n",
       "      <th>description</th>\n",
       "      <th>state</th>\n",
       "      <th>lat</th>\n",
       "      <th>long</th>\n",
       "      <th>posting_date</th>\n",
       "    </tr>\n",
       "  </thead>\n",
       "  <tbody>\n",
       "    <tr>\n",
       "      <th>0</th>\n",
       "      <td>7240372487</td>\n",
       "      <td>https://auburn.craigslist.org/ctd/d/auburn-uni...</td>\n",
       "      <td>auburn</td>\n",
       "      <td>https://auburn.craigslist.org</td>\n",
       "      <td>35990</td>\n",
       "      <td>2010.0</td>\n",
       "      <td>chevrolet</td>\n",
       "      <td>corvette grand sport</td>\n",
       "      <td>good</td>\n",
       "      <td>8 cylinders</td>\n",
       "      <td>...</td>\n",
       "      <td>rwd</td>\n",
       "      <td>NaN</td>\n",
       "      <td>other</td>\n",
       "      <td>NaN</td>\n",
       "      <td>https://images.craigslist.org/00N0N_ipkbHVZYf4...</td>\n",
       "      <td>Carvana is the safer way to buy a car During t...</td>\n",
       "      <td>al</td>\n",
       "      <td>32.590000</td>\n",
       "      <td>-85.480000</td>\n",
       "      <td>2020-12-02T08:11:30-0600</td>\n",
       "    </tr>\n",
       "    <tr>\n",
       "      <th>1</th>\n",
       "      <td>7240309422</td>\n",
       "      <td>https://auburn.craigslist.org/cto/d/auburn-201...</td>\n",
       "      <td>auburn</td>\n",
       "      <td>https://auburn.craigslist.org</td>\n",
       "      <td>7500</td>\n",
       "      <td>2014.0</td>\n",
       "      <td>hyundai</td>\n",
       "      <td>sonata</td>\n",
       "      <td>excellent</td>\n",
       "      <td>4 cylinders</td>\n",
       "      <td>...</td>\n",
       "      <td>fwd</td>\n",
       "      <td>NaN</td>\n",
       "      <td>sedan</td>\n",
       "      <td>NaN</td>\n",
       "      <td>https://images.craigslist.org/00s0s_gBHYmJ5o7y...</td>\n",
       "      <td>I'll move to another city and try to sell my c...</td>\n",
       "      <td>al</td>\n",
       "      <td>32.547500</td>\n",
       "      <td>-85.468200</td>\n",
       "      <td>2020-12-02T02:11:50-0600</td>\n",
       "    </tr>\n",
       "    <tr>\n",
       "      <th>2</th>\n",
       "      <td>7240224296</td>\n",
       "      <td>https://auburn.craigslist.org/cto/d/auburn-200...</td>\n",
       "      <td>auburn</td>\n",
       "      <td>https://auburn.craigslist.org</td>\n",
       "      <td>4900</td>\n",
       "      <td>2006.0</td>\n",
       "      <td>bmw</td>\n",
       "      <td>x3 3.0i</td>\n",
       "      <td>good</td>\n",
       "      <td>6 cylinders</td>\n",
       "      <td>...</td>\n",
       "      <td>NaN</td>\n",
       "      <td>NaN</td>\n",
       "      <td>SUV</td>\n",
       "      <td>blue</td>\n",
       "      <td>https://images.craigslist.org/00B0B_5zgEGWPOrt...</td>\n",
       "      <td>Clean 2006 BMW X3 3.0I.  Beautiful and rare Bl...</td>\n",
       "      <td>al</td>\n",
       "      <td>32.616807</td>\n",
       "      <td>-85.464149</td>\n",
       "      <td>2020-12-01T19:50:41-0600</td>\n",
       "    </tr>\n",
       "    <tr>\n",
       "      <th>3</th>\n",
       "      <td>7240103965</td>\n",
       "      <td>https://auburn.craigslist.org/cto/d/lanett-tru...</td>\n",
       "      <td>auburn</td>\n",
       "      <td>https://auburn.craigslist.org</td>\n",
       "      <td>2000</td>\n",
       "      <td>1974.0</td>\n",
       "      <td>chevrolet</td>\n",
       "      <td>c-10</td>\n",
       "      <td>good</td>\n",
       "      <td>4 cylinders</td>\n",
       "      <td>...</td>\n",
       "      <td>rwd</td>\n",
       "      <td>full-size</td>\n",
       "      <td>pickup</td>\n",
       "      <td>blue</td>\n",
       "      <td>https://images.craigslist.org/00M0M_6o7KcDpArw...</td>\n",
       "      <td>1974 chev. truck (LONG BED) NEW starter front ...</td>\n",
       "      <td>al</td>\n",
       "      <td>32.861600</td>\n",
       "      <td>-85.216100</td>\n",
       "      <td>2020-12-01T15:54:45-0600</td>\n",
       "    </tr>\n",
       "    <tr>\n",
       "      <th>4</th>\n",
       "      <td>7239983776</td>\n",
       "      <td>https://auburn.craigslist.org/cto/d/auburn-200...</td>\n",
       "      <td>auburn</td>\n",
       "      <td>https://auburn.craigslist.org</td>\n",
       "      <td>19500</td>\n",
       "      <td>2005.0</td>\n",
       "      <td>ford</td>\n",
       "      <td>f350 lariat</td>\n",
       "      <td>excellent</td>\n",
       "      <td>8 cylinders</td>\n",
       "      <td>...</td>\n",
       "      <td>4wd</td>\n",
       "      <td>full-size</td>\n",
       "      <td>pickup</td>\n",
       "      <td>blue</td>\n",
       "      <td>https://images.craigslist.org/00p0p_b95l1EgUfl...</td>\n",
       "      <td>2005 Ford F350 Lariat (Bullet Proofed). This t...</td>\n",
       "      <td>al</td>\n",
       "      <td>32.547500</td>\n",
       "      <td>-85.468200</td>\n",
       "      <td>2020-12-01T12:53:56-0600</td>\n",
       "    </tr>\n",
       "  </tbody>\n",
       "</table>\n",
       "<p>5 rows × 25 columns</p>\n",
       "</div>"
      ],
      "text/plain": [
       "           id                                                url  region  \\\n",
       "0  7240372487  https://auburn.craigslist.org/ctd/d/auburn-uni...  auburn   \n",
       "1  7240309422  https://auburn.craigslist.org/cto/d/auburn-201...  auburn   \n",
       "2  7240224296  https://auburn.craigslist.org/cto/d/auburn-200...  auburn   \n",
       "3  7240103965  https://auburn.craigslist.org/cto/d/lanett-tru...  auburn   \n",
       "4  7239983776  https://auburn.craigslist.org/cto/d/auburn-200...  auburn   \n",
       "\n",
       "                      region_url  price    year manufacturer  \\\n",
       "0  https://auburn.craigslist.org  35990  2010.0    chevrolet   \n",
       "1  https://auburn.craigslist.org   7500  2014.0      hyundai   \n",
       "2  https://auburn.craigslist.org   4900  2006.0          bmw   \n",
       "3  https://auburn.craigslist.org   2000  1974.0    chevrolet   \n",
       "4  https://auburn.craigslist.org  19500  2005.0         ford   \n",
       "\n",
       "                  model  condition    cylinders  ... drive       size    type  \\\n",
       "0  corvette grand sport       good  8 cylinders  ...   rwd        NaN   other   \n",
       "1                sonata  excellent  4 cylinders  ...   fwd        NaN   sedan   \n",
       "2               x3 3.0i       good  6 cylinders  ...   NaN        NaN     SUV   \n",
       "3                  c-10       good  4 cylinders  ...   rwd  full-size  pickup   \n",
       "4           f350 lariat  excellent  8 cylinders  ...   4wd  full-size  pickup   \n",
       "\n",
       "  paint_color                                          image_url  \\\n",
       "0         NaN  https://images.craigslist.org/00N0N_ipkbHVZYf4...   \n",
       "1         NaN  https://images.craigslist.org/00s0s_gBHYmJ5o7y...   \n",
       "2        blue  https://images.craigslist.org/00B0B_5zgEGWPOrt...   \n",
       "3        blue  https://images.craigslist.org/00M0M_6o7KcDpArw...   \n",
       "4        blue  https://images.craigslist.org/00p0p_b95l1EgUfl...   \n",
       "\n",
       "                                         description state        lat  \\\n",
       "0  Carvana is the safer way to buy a car During t...    al  32.590000   \n",
       "1  I'll move to another city and try to sell my c...    al  32.547500   \n",
       "2  Clean 2006 BMW X3 3.0I.  Beautiful and rare Bl...    al  32.616807   \n",
       "3  1974 chev. truck (LONG BED) NEW starter front ...    al  32.861600   \n",
       "4  2005 Ford F350 Lariat (Bullet Proofed). This t...    al  32.547500   \n",
       "\n",
       "        long              posting_date  \n",
       "0 -85.480000  2020-12-02T08:11:30-0600  \n",
       "1 -85.468200  2020-12-02T02:11:50-0600  \n",
       "2 -85.464149  2020-12-01T19:50:41-0600  \n",
       "3 -85.216100  2020-12-01T15:54:45-0600  \n",
       "4 -85.468200  2020-12-01T12:53:56-0600  \n",
       "\n",
       "[5 rows x 25 columns]"
      ]
     },
     "execution_count": 19,
     "metadata": {},
     "output_type": "execute_result"
    }
   ],
   "source": [
    "used_car.head()"
   ]
  },
  {
   "cell_type": "code",
   "execution_count": 20,
   "metadata": {},
   "outputs": [
    {
     "data": {
      "text/html": [
       "<div>\n",
       "<style scoped>\n",
       "    .dataframe tbody tr th:only-of-type {\n",
       "        vertical-align: middle;\n",
       "    }\n",
       "\n",
       "    .dataframe tbody tr th {\n",
       "        vertical-align: top;\n",
       "    }\n",
       "\n",
       "    .dataframe thead th {\n",
       "        text-align: right;\n",
       "    }\n",
       "</style>\n",
       "<table border=\"1\" class=\"dataframe\">\n",
       "  <thead>\n",
       "    <tr style=\"text-align: right;\">\n",
       "      <th></th>\n",
       "      <th>count</th>\n",
       "      <th>%</th>\n",
       "    </tr>\n",
       "  </thead>\n",
       "  <tbody>\n",
       "    <tr>\n",
       "      <th>id</th>\n",
       "      <td>0</td>\n",
       "      <td>0.000000</td>\n",
       "    </tr>\n",
       "    <tr>\n",
       "      <th>url</th>\n",
       "      <td>0</td>\n",
       "      <td>0.000000</td>\n",
       "    </tr>\n",
       "    <tr>\n",
       "      <th>region</th>\n",
       "      <td>0</td>\n",
       "      <td>0.000000</td>\n",
       "    </tr>\n",
       "    <tr>\n",
       "      <th>region_url</th>\n",
       "      <td>0</td>\n",
       "      <td>0.000000</td>\n",
       "    </tr>\n",
       "    <tr>\n",
       "      <th>price</th>\n",
       "      <td>0</td>\n",
       "      <td>0.000000</td>\n",
       "    </tr>\n",
       "    <tr>\n",
       "      <th>state</th>\n",
       "      <td>0</td>\n",
       "      <td>0.000000</td>\n",
       "    </tr>\n",
       "    <tr>\n",
       "      <th>image_url</th>\n",
       "      <td>28</td>\n",
       "      <td>0.006111</td>\n",
       "    </tr>\n",
       "    <tr>\n",
       "      <th>posting_date</th>\n",
       "      <td>28</td>\n",
       "      <td>0.006111</td>\n",
       "    </tr>\n",
       "    <tr>\n",
       "      <th>description</th>\n",
       "      <td>70</td>\n",
       "      <td>0.015277</td>\n",
       "    </tr>\n",
       "    <tr>\n",
       "      <th>year</th>\n",
       "      <td>1050</td>\n",
       "      <td>0.229151</td>\n",
       "    </tr>\n",
       "    <tr>\n",
       "      <th>transmission</th>\n",
       "      <td>2442</td>\n",
       "      <td>0.532940</td>\n",
       "    </tr>\n",
       "    <tr>\n",
       "      <th>title_status</th>\n",
       "      <td>2577</td>\n",
       "      <td>0.562402</td>\n",
       "    </tr>\n",
       "    <tr>\n",
       "      <th>fuel</th>\n",
       "      <td>3237</td>\n",
       "      <td>0.706440</td>\n",
       "    </tr>\n",
       "    <tr>\n",
       "      <th>model</th>\n",
       "      <td>4846</td>\n",
       "      <td>1.057587</td>\n",
       "    </tr>\n",
       "    <tr>\n",
       "      <th>long</th>\n",
       "      <td>7448</td>\n",
       "      <td>1.625445</td>\n",
       "    </tr>\n",
       "    <tr>\n",
       "      <th>lat</th>\n",
       "      <td>7448</td>\n",
       "      <td>1.625445</td>\n",
       "    </tr>\n",
       "    <tr>\n",
       "      <th>manufacturer</th>\n",
       "      <td>18220</td>\n",
       "      <td>3.976317</td>\n",
       "    </tr>\n",
       "    <tr>\n",
       "      <th>odometer</th>\n",
       "      <td>55303</td>\n",
       "      <td>12.069278</td>\n",
       "    </tr>\n",
       "    <tr>\n",
       "      <th>type</th>\n",
       "      <td>112738</td>\n",
       "      <td>24.603841</td>\n",
       "    </tr>\n",
       "    <tr>\n",
       "      <th>drive</th>\n",
       "      <td>134188</td>\n",
       "      <td>29.285070</td>\n",
       "    </tr>\n",
       "    <tr>\n",
       "      <th>paint_color</th>\n",
       "      <td>140843</td>\n",
       "      <td>30.737452</td>\n",
       "    </tr>\n",
       "    <tr>\n",
       "      <th>cylinders</th>\n",
       "      <td>171140</td>\n",
       "      <td>37.349442</td>\n",
       "    </tr>\n",
       "    <tr>\n",
       "      <th>VIN</th>\n",
       "      <td>187549</td>\n",
       "      <td>40.930528</td>\n",
       "    </tr>\n",
       "    <tr>\n",
       "      <th>condition</th>\n",
       "      <td>192940</td>\n",
       "      <td>42.107055</td>\n",
       "    </tr>\n",
       "    <tr>\n",
       "      <th>size</th>\n",
       "      <td>321348</td>\n",
       "      <td>70.130703</td>\n",
       "    </tr>\n",
       "  </tbody>\n",
       "</table>\n",
       "</div>"
      ],
      "text/plain": [
       "               count          %\n",
       "id                 0   0.000000\n",
       "url                0   0.000000\n",
       "region             0   0.000000\n",
       "region_url         0   0.000000\n",
       "price              0   0.000000\n",
       "state              0   0.000000\n",
       "image_url         28   0.006111\n",
       "posting_date      28   0.006111\n",
       "description       70   0.015277\n",
       "year            1050   0.229151\n",
       "transmission    2442   0.532940\n",
       "title_status    2577   0.562402\n",
       "fuel            3237   0.706440\n",
       "model           4846   1.057587\n",
       "long            7448   1.625445\n",
       "lat             7448   1.625445\n",
       "manufacturer   18220   3.976317\n",
       "odometer       55303  12.069278\n",
       "type          112738  24.603841\n",
       "drive         134188  29.285070\n",
       "paint_color   140843  30.737452\n",
       "cylinders     171140  37.349442\n",
       "VIN           187549  40.930528\n",
       "condition     192940  42.107055\n",
       "size          321348  70.130703"
      ]
     },
     "execution_count": 20,
     "metadata": {},
     "output_type": "execute_result"
    }
   ],
   "source": [
    "missing_used = pd.concat([used_car.isnull().sum(), 100 * used_car.isnull().mean()], axis=1)\n",
    "missing_used.columns = ['count', '%']\n",
    "missing_used.sort_values(by='count')"
   ]
  },
  {
   "cell_type": "code",
   "execution_count": 21,
   "metadata": {},
   "outputs": [],
   "source": [
    "used_car.drop(['region', 'title_status', 'paint_color', 'id', 'url', 'region_url', 'VIN', 'image_url', 'lat', 'long', 'description', 'state', 'posting_date'], axis=1, inplace=True)"
   ]
  },
  {
   "cell_type": "code",
   "execution_count": 22,
   "metadata": {},
   "outputs": [],
   "source": [
    "used_car = used_car.dropna()"
   ]
  },
  {
   "cell_type": "markdown",
   "metadata": {},
   "source": [
    "There are many features listed with the used vehicles; however, only the pertienent features are needed. Furthermore, all null values were dropped since the data cannot be filled with the average conditions of the vehicle. "
   ]
  },
  {
   "cell_type": "code",
   "execution_count": 23,
   "metadata": {},
   "outputs": [
    {
     "name": "stdout",
     "output_type": "stream",
     "text": [
      "price           0\n",
      "year            0\n",
      "manufacturer    0\n",
      "model           0\n",
      "condition       0\n",
      "cylinders       0\n",
      "fuel            0\n",
      "odometer        0\n",
      "transmission    0\n",
      "drive           0\n",
      "size            0\n",
      "type            0\n",
      "dtype: int64\n"
     ]
    }
   ],
   "source": [
    "print(used_car.isnull().sum())"
   ]
  },
  {
   "cell_type": "code",
   "execution_count": 24,
   "metadata": {},
   "outputs": [
    {
     "data": {
      "text/plain": [
       "(90871, 12)"
      ]
     },
     "execution_count": 24,
     "metadata": {},
     "output_type": "execute_result"
    }
   ],
   "source": [
    "used_car.shape"
   ]
  },
  {
   "cell_type": "markdown",
   "metadata": {},
   "source": [
    "The new shape of the used car dataset is 90,817 rows and 12 columns "
   ]
  },
  {
   "cell_type": "code",
   "execution_count": 25,
   "metadata": {},
   "outputs": [
    {
     "data": {
      "text/plain": [
       "3     1974\n",
       "4     2005\n",
       "14    2003\n",
       "19    2020\n",
       "47    2010\n",
       "Name: year, dtype: int32"
      ]
     },
     "execution_count": 25,
     "metadata": {},
     "output_type": "execute_result"
    }
   ],
   "source": [
    "used_car['year'] = used_car['year'].astype(int)\n",
    "used_car['year'].head()"
   ]
  },
  {
   "cell_type": "code",
   "execution_count": 26,
   "metadata": {},
   "outputs": [
    {
     "data": {
      "text/plain": [
       "3     1974\n",
       "4     2005\n",
       "14    2003\n",
       "19    2020\n",
       "47    2010\n",
       "Name: year, dtype: object"
      ]
     },
     "execution_count": 26,
     "metadata": {},
     "output_type": "execute_result"
    }
   ],
   "source": [
    "used_car['year'] = used_car['year'].astype(str)\n",
    "used_car['year'].head()"
   ]
  },
  {
   "cell_type": "code",
   "execution_count": 27,
   "metadata": {},
   "outputs": [
    {
     "data": {
      "text/plain": [
       "3     190000\n",
       "4     116000\n",
       "14    177000\n",
       "19     10500\n",
       "47     82000\n",
       "Name: odometer, dtype: int32"
      ]
     },
     "execution_count": 27,
     "metadata": {},
     "output_type": "execute_result"
    }
   ],
   "source": [
    "used_car['odometer'] = used_car['odometer'].astype(int)\n",
    "used_car['odometer'].head()"
   ]
  },
  {
   "cell_type": "code",
   "execution_count": 28,
   "metadata": {},
   "outputs": [
    {
     "data": {
      "text/html": [
       "<div>\n",
       "<style scoped>\n",
       "    .dataframe tbody tr th:only-of-type {\n",
       "        vertical-align: middle;\n",
       "    }\n",
       "\n",
       "    .dataframe tbody tr th {\n",
       "        vertical-align: top;\n",
       "    }\n",
       "\n",
       "    .dataframe thead th {\n",
       "        text-align: right;\n",
       "    }\n",
       "</style>\n",
       "<table border=\"1\" class=\"dataframe\">\n",
       "  <thead>\n",
       "    <tr style=\"text-align: right;\">\n",
       "      <th></th>\n",
       "      <th>price</th>\n",
       "      <th>year</th>\n",
       "      <th>manufacturer</th>\n",
       "      <th>model</th>\n",
       "      <th>condition</th>\n",
       "      <th>cylinders</th>\n",
       "      <th>fuel</th>\n",
       "      <th>odometer</th>\n",
       "      <th>transmission</th>\n",
       "      <th>drive</th>\n",
       "      <th>size</th>\n",
       "      <th>type</th>\n",
       "    </tr>\n",
       "  </thead>\n",
       "  <tbody>\n",
       "    <tr>\n",
       "      <th>3</th>\n",
       "      <td>2000</td>\n",
       "      <td>1974</td>\n",
       "      <td>chevrolet</td>\n",
       "      <td>c-10</td>\n",
       "      <td>good</td>\n",
       "      <td>4 cylinders</td>\n",
       "      <td>gas</td>\n",
       "      <td>190000</td>\n",
       "      <td>automatic</td>\n",
       "      <td>rwd</td>\n",
       "      <td>full-size</td>\n",
       "      <td>pickup</td>\n",
       "    </tr>\n",
       "    <tr>\n",
       "      <th>4</th>\n",
       "      <td>19500</td>\n",
       "      <td>2005</td>\n",
       "      <td>ford</td>\n",
       "      <td>f350 lariat</td>\n",
       "      <td>excellent</td>\n",
       "      <td>8 cylinders</td>\n",
       "      <td>diesel</td>\n",
       "      <td>116000</td>\n",
       "      <td>automatic</td>\n",
       "      <td>4wd</td>\n",
       "      <td>full-size</td>\n",
       "      <td>pickup</td>\n",
       "    </tr>\n",
       "    <tr>\n",
       "      <th>14</th>\n",
       "      <td>4900</td>\n",
       "      <td>2003</td>\n",
       "      <td>ford</td>\n",
       "      <td>expedition</td>\n",
       "      <td>good</td>\n",
       "      <td>8 cylinders</td>\n",
       "      <td>gas</td>\n",
       "      <td>177000</td>\n",
       "      <td>automatic</td>\n",
       "      <td>rwd</td>\n",
       "      <td>full-size</td>\n",
       "      <td>SUV</td>\n",
       "    </tr>\n",
       "    <tr>\n",
       "      <th>19</th>\n",
       "      <td>47000</td>\n",
       "      <td>2020</td>\n",
       "      <td>jeep</td>\n",
       "      <td>gladiator</td>\n",
       "      <td>like new</td>\n",
       "      <td>6 cylinders</td>\n",
       "      <td>gas</td>\n",
       "      <td>10500</td>\n",
       "      <td>automatic</td>\n",
       "      <td>4wd</td>\n",
       "      <td>full-size</td>\n",
       "      <td>pickup</td>\n",
       "    </tr>\n",
       "    <tr>\n",
       "      <th>47</th>\n",
       "      <td>6250</td>\n",
       "      <td>2010</td>\n",
       "      <td>ford</td>\n",
       "      <td>fusion sel</td>\n",
       "      <td>good</td>\n",
       "      <td>6 cylinders</td>\n",
       "      <td>gas</td>\n",
       "      <td>82000</td>\n",
       "      <td>automatic</td>\n",
       "      <td>fwd</td>\n",
       "      <td>full-size</td>\n",
       "      <td>sedan</td>\n",
       "    </tr>\n",
       "  </tbody>\n",
       "</table>\n",
       "</div>"
      ],
      "text/plain": [
       "    price  year manufacturer        model  condition    cylinders    fuel  \\\n",
       "3    2000  1974    chevrolet         c-10       good  4 cylinders     gas   \n",
       "4   19500  2005         ford  f350 lariat  excellent  8 cylinders  diesel   \n",
       "14   4900  2003         ford   expedition       good  8 cylinders     gas   \n",
       "19  47000  2020         jeep    gladiator   like new  6 cylinders     gas   \n",
       "47   6250  2010         ford   fusion sel       good  6 cylinders     gas   \n",
       "\n",
       "    odometer transmission drive       size    type  \n",
       "3     190000    automatic   rwd  full-size  pickup  \n",
       "4     116000    automatic   4wd  full-size  pickup  \n",
       "14    177000    automatic   rwd  full-size     SUV  \n",
       "19     10500    automatic   4wd  full-size  pickup  \n",
       "47     82000    automatic   fwd  full-size   sedan  "
      ]
     },
     "execution_count": 28,
     "metadata": {},
     "output_type": "execute_result"
    }
   ],
   "source": [
    "used_car.head()"
   ]
  },
  {
   "cell_type": "code",
   "execution_count": 29,
   "metadata": {},
   "outputs": [],
   "source": [
    "used_car[\"Model\"] = used_car['year'] + ' ' + used_car[\"manufacturer\"] + ' ' + used_car[\"model\"]"
   ]
  },
  {
   "cell_type": "code",
   "execution_count": 30,
   "metadata": {},
   "outputs": [
    {
     "data": {
      "text/plain": [
       "3       1974 chevrolet c-10\n",
       "4     2005 ford f350 lariat\n",
       "14     2003 ford expedition\n",
       "19      2020 jeep gladiator\n",
       "47     2010 ford fusion sel\n",
       "Name: Model, dtype: object"
      ]
     },
     "execution_count": 30,
     "metadata": {},
     "output_type": "execute_result"
    }
   ],
   "source": [
    "used_car['Model'].head()"
   ]
  },
  {
   "cell_type": "code",
   "execution_count": 31,
   "metadata": {},
   "outputs": [
    {
     "data": {
      "text/plain": [
       "array(['chevrolet', 'ford', 'jeep', 'mercedes-benz', 'gmc', 'bmw',\n",
       "       'honda', 'nissan', 'kia', 'ram', 'mitsubishi', 'hyundai', 'toyota',\n",
       "       'mazda', 'dodge', 'audi', 'infiniti', 'lexus', 'volkswagen',\n",
       "       'cadillac', 'pontiac', 'subaru', 'chrysler', 'fiat', 'rover',\n",
       "       'mini', 'mercury', 'buick', 'tesla', 'lincoln', 'jaguar', 'volvo',\n",
       "       'saturn', 'acura', 'porsche', 'land rover', 'alfa-romeo', 'datsun',\n",
       "       'ferrari', 'aston-martin', 'harley-davidson'], dtype=object)"
      ]
     },
     "execution_count": 31,
     "metadata": {},
     "output_type": "execute_result"
    }
   ],
   "source": [
    "used_car['manufacturer'].unique()"
   ]
  },
  {
   "cell_type": "code",
   "execution_count": 32,
   "metadata": {
    "scrolled": true
   },
   "outputs": [
    {
     "data": {
      "text/plain": [
       "array(['1974 chevrolet c-10', '2005 ford f350 lariat',\n",
       "       '2003 ford expedition', ..., '2010 chevrolet cargo van',\n",
       "       '2005 buick rendezvous cx', '2014 cadillac cts coupe awd'],\n",
       "      dtype=object)"
      ]
     },
     "execution_count": 32,
     "metadata": {},
     "output_type": "execute_result"
    }
   ],
   "source": [
    "used_model = used_car['Model'].unique()\n",
    "used_model"
   ]
  },
  {
   "cell_type": "code",
   "execution_count": 33,
   "metadata": {},
   "outputs": [
    {
     "data": {
      "text/html": [
       "<div>\n",
       "<style scoped>\n",
       "    .dataframe tbody tr th:only-of-type {\n",
       "        vertical-align: middle;\n",
       "    }\n",
       "\n",
       "    .dataframe tbody tr th {\n",
       "        vertical-align: top;\n",
       "    }\n",
       "\n",
       "    .dataframe thead th {\n",
       "        text-align: right;\n",
       "    }\n",
       "</style>\n",
       "<table border=\"1\" class=\"dataframe\">\n",
       "  <thead>\n",
       "    <tr style=\"text-align: right;\">\n",
       "      <th></th>\n",
       "      <th>price</th>\n",
       "      <th>year</th>\n",
       "      <th>manufacturer</th>\n",
       "      <th>model</th>\n",
       "      <th>condition</th>\n",
       "      <th>cylinders</th>\n",
       "      <th>fuel</th>\n",
       "      <th>odometer</th>\n",
       "      <th>transmission</th>\n",
       "      <th>drive</th>\n",
       "      <th>size</th>\n",
       "      <th>type</th>\n",
       "      <th>Model</th>\n",
       "    </tr>\n",
       "  </thead>\n",
       "  <tbody>\n",
       "    <tr>\n",
       "      <th>3</th>\n",
       "      <td>2000</td>\n",
       "      <td>1974</td>\n",
       "      <td>chevrolet</td>\n",
       "      <td>c-10</td>\n",
       "      <td>good</td>\n",
       "      <td>4 cylinders</td>\n",
       "      <td>gas</td>\n",
       "      <td>190000</td>\n",
       "      <td>automatic</td>\n",
       "      <td>rwd</td>\n",
       "      <td>full-size</td>\n",
       "      <td>pickup</td>\n",
       "      <td>1974 chevrolet c-10</td>\n",
       "    </tr>\n",
       "    <tr>\n",
       "      <th>4</th>\n",
       "      <td>19500</td>\n",
       "      <td>2005</td>\n",
       "      <td>ford</td>\n",
       "      <td>f350 lariat</td>\n",
       "      <td>excellent</td>\n",
       "      <td>8 cylinders</td>\n",
       "      <td>diesel</td>\n",
       "      <td>116000</td>\n",
       "      <td>automatic</td>\n",
       "      <td>4wd</td>\n",
       "      <td>full-size</td>\n",
       "      <td>pickup</td>\n",
       "      <td>2005 ford f350 lariat</td>\n",
       "    </tr>\n",
       "    <tr>\n",
       "      <th>14</th>\n",
       "      <td>4900</td>\n",
       "      <td>2003</td>\n",
       "      <td>ford</td>\n",
       "      <td>expedition</td>\n",
       "      <td>good</td>\n",
       "      <td>8 cylinders</td>\n",
       "      <td>gas</td>\n",
       "      <td>177000</td>\n",
       "      <td>automatic</td>\n",
       "      <td>rwd</td>\n",
       "      <td>full-size</td>\n",
       "      <td>SUV</td>\n",
       "      <td>2003 ford expedition</td>\n",
       "    </tr>\n",
       "    <tr>\n",
       "      <th>19</th>\n",
       "      <td>47000</td>\n",
       "      <td>2020</td>\n",
       "      <td>jeep</td>\n",
       "      <td>gladiator</td>\n",
       "      <td>like new</td>\n",
       "      <td>6 cylinders</td>\n",
       "      <td>gas</td>\n",
       "      <td>10500</td>\n",
       "      <td>automatic</td>\n",
       "      <td>4wd</td>\n",
       "      <td>full-size</td>\n",
       "      <td>pickup</td>\n",
       "      <td>2020 jeep gladiator</td>\n",
       "    </tr>\n",
       "    <tr>\n",
       "      <th>47</th>\n",
       "      <td>6250</td>\n",
       "      <td>2010</td>\n",
       "      <td>ford</td>\n",
       "      <td>fusion sel</td>\n",
       "      <td>good</td>\n",
       "      <td>6 cylinders</td>\n",
       "      <td>gas</td>\n",
       "      <td>82000</td>\n",
       "      <td>automatic</td>\n",
       "      <td>fwd</td>\n",
       "      <td>full-size</td>\n",
       "      <td>sedan</td>\n",
       "      <td>2010 ford fusion sel</td>\n",
       "    </tr>\n",
       "  </tbody>\n",
       "</table>\n",
       "</div>"
      ],
      "text/plain": [
       "    price  year manufacturer        model  condition    cylinders    fuel  \\\n",
       "3    2000  1974    chevrolet         c-10       good  4 cylinders     gas   \n",
       "4   19500  2005         ford  f350 lariat  excellent  8 cylinders  diesel   \n",
       "14   4900  2003         ford   expedition       good  8 cylinders     gas   \n",
       "19  47000  2020         jeep    gladiator   like new  6 cylinders     gas   \n",
       "47   6250  2010         ford   fusion sel       good  6 cylinders     gas   \n",
       "\n",
       "    odometer transmission drive       size    type                  Model  \n",
       "3     190000    automatic   rwd  full-size  pickup    1974 chevrolet c-10  \n",
       "4     116000    automatic   4wd  full-size  pickup  2005 ford f350 lariat  \n",
       "14    177000    automatic   rwd  full-size     SUV   2003 ford expedition  \n",
       "19     10500    automatic   4wd  full-size  pickup    2020 jeep gladiator  \n",
       "47     82000    automatic   fwd  full-size   sedan   2010 ford fusion sel  "
      ]
     },
     "execution_count": 33,
     "metadata": {},
     "output_type": "execute_result"
    }
   ],
   "source": [
    "used_car.head()"
   ]
  },
  {
   "cell_type": "code",
   "execution_count": 34,
   "metadata": {},
   "outputs": [
    {
     "data": {
      "text/html": [
       "<div>\n",
       "<style scoped>\n",
       "    .dataframe tbody tr th:only-of-type {\n",
       "        vertical-align: middle;\n",
       "    }\n",
       "\n",
       "    .dataframe tbody tr th {\n",
       "        vertical-align: top;\n",
       "    }\n",
       "\n",
       "    .dataframe thead th {\n",
       "        text-align: right;\n",
       "    }\n",
       "</style>\n",
       "<table border=\"1\" class=\"dataframe\">\n",
       "  <thead>\n",
       "    <tr style=\"text-align: right;\">\n",
       "      <th></th>\n",
       "      <th>price</th>\n",
       "      <th>year</th>\n",
       "      <th>condition</th>\n",
       "      <th>cylinders</th>\n",
       "      <th>fuel</th>\n",
       "      <th>odometer</th>\n",
       "      <th>transmission</th>\n",
       "      <th>drive</th>\n",
       "      <th>size</th>\n",
       "      <th>type</th>\n",
       "      <th>Model</th>\n",
       "    </tr>\n",
       "  </thead>\n",
       "  <tbody>\n",
       "    <tr>\n",
       "      <th>3</th>\n",
       "      <td>2000</td>\n",
       "      <td>1974</td>\n",
       "      <td>good</td>\n",
       "      <td>4 cylinders</td>\n",
       "      <td>gas</td>\n",
       "      <td>190000</td>\n",
       "      <td>automatic</td>\n",
       "      <td>rwd</td>\n",
       "      <td>full-size</td>\n",
       "      <td>pickup</td>\n",
       "      <td>1974 chevrolet c-10</td>\n",
       "    </tr>\n",
       "    <tr>\n",
       "      <th>4</th>\n",
       "      <td>19500</td>\n",
       "      <td>2005</td>\n",
       "      <td>excellent</td>\n",
       "      <td>8 cylinders</td>\n",
       "      <td>diesel</td>\n",
       "      <td>116000</td>\n",
       "      <td>automatic</td>\n",
       "      <td>4wd</td>\n",
       "      <td>full-size</td>\n",
       "      <td>pickup</td>\n",
       "      <td>2005 ford f350 lariat</td>\n",
       "    </tr>\n",
       "    <tr>\n",
       "      <th>14</th>\n",
       "      <td>4900</td>\n",
       "      <td>2003</td>\n",
       "      <td>good</td>\n",
       "      <td>8 cylinders</td>\n",
       "      <td>gas</td>\n",
       "      <td>177000</td>\n",
       "      <td>automatic</td>\n",
       "      <td>rwd</td>\n",
       "      <td>full-size</td>\n",
       "      <td>SUV</td>\n",
       "      <td>2003 ford expedition</td>\n",
       "    </tr>\n",
       "    <tr>\n",
       "      <th>19</th>\n",
       "      <td>47000</td>\n",
       "      <td>2020</td>\n",
       "      <td>like new</td>\n",
       "      <td>6 cylinders</td>\n",
       "      <td>gas</td>\n",
       "      <td>10500</td>\n",
       "      <td>automatic</td>\n",
       "      <td>4wd</td>\n",
       "      <td>full-size</td>\n",
       "      <td>pickup</td>\n",
       "      <td>2020 jeep gladiator</td>\n",
       "    </tr>\n",
       "    <tr>\n",
       "      <th>47</th>\n",
       "      <td>6250</td>\n",
       "      <td>2010</td>\n",
       "      <td>good</td>\n",
       "      <td>6 cylinders</td>\n",
       "      <td>gas</td>\n",
       "      <td>82000</td>\n",
       "      <td>automatic</td>\n",
       "      <td>fwd</td>\n",
       "      <td>full-size</td>\n",
       "      <td>sedan</td>\n",
       "      <td>2010 ford fusion sel</td>\n",
       "    </tr>\n",
       "  </tbody>\n",
       "</table>\n",
       "</div>"
      ],
      "text/plain": [
       "    price  year  condition    cylinders    fuel  odometer transmission drive  \\\n",
       "3    2000  1974       good  4 cylinders     gas    190000    automatic   rwd   \n",
       "4   19500  2005  excellent  8 cylinders  diesel    116000    automatic   4wd   \n",
       "14   4900  2003       good  8 cylinders     gas    177000    automatic   rwd   \n",
       "19  47000  2020   like new  6 cylinders     gas     10500    automatic   4wd   \n",
       "47   6250  2010       good  6 cylinders     gas     82000    automatic   fwd   \n",
       "\n",
       "         size    type                  Model  \n",
       "3   full-size  pickup    1974 chevrolet c-10  \n",
       "4   full-size  pickup  2005 ford f350 lariat  \n",
       "14  full-size     SUV   2003 ford expedition  \n",
       "19  full-size  pickup    2020 jeep gladiator  \n",
       "47  full-size   sedan   2010 ford fusion sel  "
      ]
     },
     "execution_count": 34,
     "metadata": {},
     "output_type": "execute_result"
    }
   ],
   "source": [
    "used_car.drop(['manufacturer', 'model'], axis =1, inplace=True)\n",
    "used_car.head()"
   ]
  },
  {
   "cell_type": "markdown",
   "metadata": {},
   "source": [
    "The data set was cleaned to match the model with the new car dataset in order to merge on that column. The data contains the features that will be used to analysed and predict vehicle values. "
   ]
  },
  {
   "cell_type": "markdown",
   "metadata": {},
   "source": [
    "**Combining Data**"
   ]
  },
  {
   "cell_type": "code",
   "execution_count": 35,
   "metadata": {},
   "outputs": [
    {
     "name": "stderr",
     "output_type": "stream",
     "text": [
      "C:\\Users\\ryanp\\anaconda3\\lib\\site-packages\\ipykernel_launcher.py:1: SettingWithCopyWarning: \n",
      "A value is trying to be set on a copy of a slice from a DataFrame.\n",
      "Try using .loc[row_indexer,col_indexer] = value instead\n",
      "\n",
      "See the caveats in the documentation: https://pandas.pydata.org/pandas-docs/stable/user_guide/indexing.html#returning-a-view-versus-a-copy\n",
      "  \"\"\"Entry point for launching an IPython kernel.\n"
     ]
    },
    {
     "data": {
      "text/plain": [
       "32311    2018 Volvo V60 Cross Country Specs\n",
       "32312    2016 Volvo V60 Cross Country Specs\n",
       "32313    2016 Volvo V60 Cross Country Specs\n",
       "32314    2015 Volvo V60 Cross Country Specs\n",
       "32315    2015 Volvo V60 Cross Country Specs\n",
       "Name: Model, dtype: object"
      ]
     },
     "execution_count": 35,
     "metadata": {},
     "output_type": "execute_result"
    }
   ],
   "source": [
    "new_prices['Model'] = new_prices['Model'].str.split(':').str[0]\n",
    "new_prices['Model'].tail()"
   ]
  },
  {
   "cell_type": "code",
   "execution_count": 36,
   "metadata": {},
   "outputs": [
    {
     "data": {
      "text/plain": [
       "0    2019 Acura RDX Specs\n",
       "1    2019 Acura RDX Specs\n",
       "2    2019 Acura RDX Specs\n",
       "3    2019 Acura RDX Specs\n",
       "4    2019 Acura RDX Specs\n",
       "Name: Model, dtype: object"
      ]
     },
     "execution_count": 36,
     "metadata": {},
     "output_type": "execute_result"
    }
   ],
   "source": [
    "new_prices['Model'].head()"
   ]
  },
  {
   "cell_type": "code",
   "execution_count": 37,
   "metadata": {},
   "outputs": [
    {
     "name": "stderr",
     "output_type": "stream",
     "text": [
      "C:\\Users\\ryanp\\anaconda3\\lib\\site-packages\\ipykernel_launcher.py:2: SettingWithCopyWarning: \n",
      "A value is trying to be set on a copy of a slice from a DataFrame.\n",
      "Try using .loc[row_indexer,col_indexer] = value instead\n",
      "\n",
      "See the caveats in the documentation: https://pandas.pydata.org/pandas-docs/stable/user_guide/indexing.html#returning-a-view-versus-a-copy\n",
      "  \n"
     ]
    },
    {
     "data": {
      "text/plain": [
       "32311    2018 Volvo V60\n",
       "32312    2016 Volvo V60\n",
       "32313    2016 Volvo V60\n",
       "32314    2015 Volvo V60\n",
       "32315    2015 Volvo V60\n",
       "Name: Model, dtype: object"
      ]
     },
     "execution_count": 37,
     "metadata": {},
     "output_type": "execute_result"
    }
   ],
   "source": [
    "f = lambda x: x['Model'].strip(\"Cross Country Specs\")\n",
    "new_prices['Model'] = new_prices.apply(f, axis=1)\n",
    "new_prices['Model'].tail()"
   ]
  },
  {
   "cell_type": "code",
   "execution_count": 38,
   "metadata": {},
   "outputs": [
    {
     "data": {
      "text/plain": [
       "Model     3781\n",
       "MSRP     10228\n",
       "dtype: int64"
      ]
     },
     "execution_count": 38,
     "metadata": {},
     "output_type": "execute_result"
    }
   ],
   "source": [
    "new_prices.nunique()"
   ]
  },
  {
   "cell_type": "code",
   "execution_count": 39,
   "metadata": {
    "scrolled": true
   },
   "outputs": [
    {
     "name": "stderr",
     "output_type": "stream",
     "text": [
      "C:\\Users\\ryanp\\anaconda3\\lib\\site-packages\\ipykernel_launcher.py:2: SettingWithCopyWarning: \n",
      "A value is trying to be set on a copy of a slice from a DataFrame.\n",
      "Try using .loc[row_indexer,col_indexer] = value instead\n",
      "\n",
      "See the caveats in the documentation: https://pandas.pydata.org/pandas-docs/stable/user_guide/indexing.html#returning-a-view-versus-a-copy\n",
      "  \n"
     ]
    },
    {
     "data": {
      "text/plain": [
       "32311    2018 volvo v60\n",
       "32312    2016 volvo v60\n",
       "32313    2016 volvo v60\n",
       "32314    2015 volvo v60\n",
       "32315    2015 volvo v60\n",
       "Name: Model, dtype: object"
      ]
     },
     "execution_count": 39,
     "metadata": {},
     "output_type": "execute_result"
    }
   ],
   "source": [
    "f = lambda x: x['Model'].lower()\n",
    "new_prices['Model'] = new_prices.apply(f, axis=1)\n",
    "new_prices['Model'].tail()"
   ]
  },
  {
   "cell_type": "code",
   "execution_count": 40,
   "metadata": {},
   "outputs": [
    {
     "data": {
      "text/html": [
       "<div>\n",
       "<style scoped>\n",
       "    .dataframe tbody tr th:only-of-type {\n",
       "        vertical-align: middle;\n",
       "    }\n",
       "\n",
       "    .dataframe tbody tr th {\n",
       "        vertical-align: top;\n",
       "    }\n",
       "\n",
       "    .dataframe thead th {\n",
       "        text-align: right;\n",
       "    }\n",
       "</style>\n",
       "<table border=\"1\" class=\"dataframe\">\n",
       "  <thead>\n",
       "    <tr style=\"text-align: right;\">\n",
       "      <th></th>\n",
       "      <th>Model</th>\n",
       "      <th>MSRP</th>\n",
       "    </tr>\n",
       "  </thead>\n",
       "  <tbody>\n",
       "    <tr>\n",
       "      <th>0</th>\n",
       "      <td>2019 acura rdx</td>\n",
       "      <td>40600</td>\n",
       "    </tr>\n",
       "    <tr>\n",
       "      <th>1</th>\n",
       "      <td>2019 acura rdx</td>\n",
       "      <td>45500</td>\n",
       "    </tr>\n",
       "    <tr>\n",
       "      <th>2</th>\n",
       "      <td>2019 acura rdx</td>\n",
       "      <td>43600</td>\n",
       "    </tr>\n",
       "    <tr>\n",
       "      <th>3</th>\n",
       "      <td>2019 acura rdx</td>\n",
       "      <td>37400</td>\n",
       "    </tr>\n",
       "    <tr>\n",
       "      <th>4</th>\n",
       "      <td>2019 acura rdx</td>\n",
       "      <td>42600</td>\n",
       "    </tr>\n",
       "  </tbody>\n",
       "</table>\n",
       "</div>"
      ],
      "text/plain": [
       "            Model   MSRP\n",
       "0  2019 acura rdx  40600\n",
       "1  2019 acura rdx  45500\n",
       "2  2019 acura rdx  43600\n",
       "3  2019 acura rdx  37400\n",
       "4  2019 acura rdx  42600"
      ]
     },
     "execution_count": 40,
     "metadata": {},
     "output_type": "execute_result"
    }
   ],
   "source": [
    "new_prices.head()"
   ]
  },
  {
   "cell_type": "code",
   "execution_count": 41,
   "metadata": {
    "scrolled": true
   },
   "outputs": [
    {
     "data": {
      "text/html": [
       "<div>\n",
       "<style scoped>\n",
       "    .dataframe tbody tr th:only-of-type {\n",
       "        vertical-align: middle;\n",
       "    }\n",
       "\n",
       "    .dataframe tbody tr th {\n",
       "        vertical-align: top;\n",
       "    }\n",
       "\n",
       "    .dataframe thead th {\n",
       "        text-align: right;\n",
       "    }\n",
       "</style>\n",
       "<table border=\"1\" class=\"dataframe\">\n",
       "  <thead>\n",
       "    <tr style=\"text-align: right;\">\n",
       "      <th></th>\n",
       "      <th>Model</th>\n",
       "      <th>MSRP</th>\n",
       "      <th>price</th>\n",
       "      <th>year</th>\n",
       "      <th>condition</th>\n",
       "      <th>cylinders</th>\n",
       "      <th>fuel</th>\n",
       "      <th>odometer</th>\n",
       "      <th>transmission</th>\n",
       "      <th>drive</th>\n",
       "      <th>size</th>\n",
       "      <th>type</th>\n",
       "    </tr>\n",
       "  </thead>\n",
       "  <tbody>\n",
       "    <tr>\n",
       "      <th>0</th>\n",
       "      <td>2019 acura rdx</td>\n",
       "      <td>40600</td>\n",
       "      <td>36250</td>\n",
       "      <td>2019</td>\n",
       "      <td>excellent</td>\n",
       "      <td>4 cylinders</td>\n",
       "      <td>gas</td>\n",
       "      <td>31250</td>\n",
       "      <td>automatic</td>\n",
       "      <td>4wd</td>\n",
       "      <td>mid-size</td>\n",
       "      <td>SUV</td>\n",
       "    </tr>\n",
       "    <tr>\n",
       "      <th>1</th>\n",
       "      <td>2019 acura rdx</td>\n",
       "      <td>45500</td>\n",
       "      <td>36250</td>\n",
       "      <td>2019</td>\n",
       "      <td>excellent</td>\n",
       "      <td>4 cylinders</td>\n",
       "      <td>gas</td>\n",
       "      <td>31250</td>\n",
       "      <td>automatic</td>\n",
       "      <td>4wd</td>\n",
       "      <td>mid-size</td>\n",
       "      <td>SUV</td>\n",
       "    </tr>\n",
       "    <tr>\n",
       "      <th>2</th>\n",
       "      <td>2019 acura rdx</td>\n",
       "      <td>43600</td>\n",
       "      <td>36250</td>\n",
       "      <td>2019</td>\n",
       "      <td>excellent</td>\n",
       "      <td>4 cylinders</td>\n",
       "      <td>gas</td>\n",
       "      <td>31250</td>\n",
       "      <td>automatic</td>\n",
       "      <td>4wd</td>\n",
       "      <td>mid-size</td>\n",
       "      <td>SUV</td>\n",
       "    </tr>\n",
       "    <tr>\n",
       "      <th>3</th>\n",
       "      <td>2019 acura rdx</td>\n",
       "      <td>37400</td>\n",
       "      <td>36250</td>\n",
       "      <td>2019</td>\n",
       "      <td>excellent</td>\n",
       "      <td>4 cylinders</td>\n",
       "      <td>gas</td>\n",
       "      <td>31250</td>\n",
       "      <td>automatic</td>\n",
       "      <td>4wd</td>\n",
       "      <td>mid-size</td>\n",
       "      <td>SUV</td>\n",
       "    </tr>\n",
       "    <tr>\n",
       "      <th>4</th>\n",
       "      <td>2019 acura rdx</td>\n",
       "      <td>42600</td>\n",
       "      <td>36250</td>\n",
       "      <td>2019</td>\n",
       "      <td>excellent</td>\n",
       "      <td>4 cylinders</td>\n",
       "      <td>gas</td>\n",
       "      <td>31250</td>\n",
       "      <td>automatic</td>\n",
       "      <td>4wd</td>\n",
       "      <td>mid-size</td>\n",
       "      <td>SUV</td>\n",
       "    </tr>\n",
       "    <tr>\n",
       "      <th>...</th>\n",
       "      <td>...</td>\n",
       "      <td>...</td>\n",
       "      <td>...</td>\n",
       "      <td>...</td>\n",
       "      <td>...</td>\n",
       "      <td>...</td>\n",
       "      <td>...</td>\n",
       "      <td>...</td>\n",
       "      <td>...</td>\n",
       "      <td>...</td>\n",
       "      <td>...</td>\n",
       "      <td>...</td>\n",
       "    </tr>\n",
       "    <tr>\n",
       "      <th>304065</th>\n",
       "      <td>2003 volvo xc90</td>\n",
       "      <td>35100</td>\n",
       "      <td>3500</td>\n",
       "      <td>2003</td>\n",
       "      <td>good</td>\n",
       "      <td>5 cylinders</td>\n",
       "      <td>gas</td>\n",
       "      <td>205000</td>\n",
       "      <td>automatic</td>\n",
       "      <td>4wd</td>\n",
       "      <td>full-size</td>\n",
       "      <td>SUV</td>\n",
       "    </tr>\n",
       "    <tr>\n",
       "      <th>304066</th>\n",
       "      <td>2003 volvo xc90</td>\n",
       "      <td>35100</td>\n",
       "      <td>2000</td>\n",
       "      <td>2003</td>\n",
       "      <td>fair</td>\n",
       "      <td>6 cylinders</td>\n",
       "      <td>gas</td>\n",
       "      <td>109000</td>\n",
       "      <td>automatic</td>\n",
       "      <td>4wd</td>\n",
       "      <td>mid-size</td>\n",
       "      <td>SUV</td>\n",
       "    </tr>\n",
       "    <tr>\n",
       "      <th>304067</th>\n",
       "      <td>1998 volvo s90</td>\n",
       "      <td>34300</td>\n",
       "      <td>2100</td>\n",
       "      <td>1998</td>\n",
       "      <td>good</td>\n",
       "      <td>6 cylinders</td>\n",
       "      <td>gas</td>\n",
       "      <td>144000</td>\n",
       "      <td>automatic</td>\n",
       "      <td>rwd</td>\n",
       "      <td>full-size</td>\n",
       "      <td>sedan</td>\n",
       "    </tr>\n",
       "    <tr>\n",
       "      <th>304068</th>\n",
       "      <td>1998 volvo s90</td>\n",
       "      <td>34300</td>\n",
       "      <td>2500</td>\n",
       "      <td>1998</td>\n",
       "      <td>good</td>\n",
       "      <td>6 cylinders</td>\n",
       "      <td>gas</td>\n",
       "      <td>160000</td>\n",
       "      <td>automatic</td>\n",
       "      <td>rwd</td>\n",
       "      <td>full-size</td>\n",
       "      <td>sedan</td>\n",
       "    </tr>\n",
       "    <tr>\n",
       "      <th>304069</th>\n",
       "      <td>1998 volvo s90</td>\n",
       "      <td>34300</td>\n",
       "      <td>3500</td>\n",
       "      <td>1998</td>\n",
       "      <td>good</td>\n",
       "      <td>6 cylinders</td>\n",
       "      <td>gas</td>\n",
       "      <td>170000</td>\n",
       "      <td>automatic</td>\n",
       "      <td>rwd</td>\n",
       "      <td>mid-size</td>\n",
       "      <td>sedan</td>\n",
       "    </tr>\n",
       "  </tbody>\n",
       "</table>\n",
       "<p>304070 rows × 12 columns</p>\n",
       "</div>"
      ],
      "text/plain": [
       "                  Model   MSRP  price  year  condition    cylinders fuel  \\\n",
       "0        2019 acura rdx  40600  36250  2019  excellent  4 cylinders  gas   \n",
       "1        2019 acura rdx  45500  36250  2019  excellent  4 cylinders  gas   \n",
       "2        2019 acura rdx  43600  36250  2019  excellent  4 cylinders  gas   \n",
       "3        2019 acura rdx  37400  36250  2019  excellent  4 cylinders  gas   \n",
       "4        2019 acura rdx  42600  36250  2019  excellent  4 cylinders  gas   \n",
       "...                 ...    ...    ...   ...        ...          ...  ...   \n",
       "304065  2003 volvo xc90  35100   3500  2003       good  5 cylinders  gas   \n",
       "304066  2003 volvo xc90  35100   2000  2003       fair  6 cylinders  gas   \n",
       "304067   1998 volvo s90  34300   2100  1998       good  6 cylinders  gas   \n",
       "304068   1998 volvo s90  34300   2500  1998       good  6 cylinders  gas   \n",
       "304069   1998 volvo s90  34300   3500  1998       good  6 cylinders  gas   \n",
       "\n",
       "        odometer transmission drive       size   type  \n",
       "0          31250    automatic   4wd   mid-size    SUV  \n",
       "1          31250    automatic   4wd   mid-size    SUV  \n",
       "2          31250    automatic   4wd   mid-size    SUV  \n",
       "3          31250    automatic   4wd   mid-size    SUV  \n",
       "4          31250    automatic   4wd   mid-size    SUV  \n",
       "...          ...          ...   ...        ...    ...  \n",
       "304065    205000    automatic   4wd  full-size    SUV  \n",
       "304066    109000    automatic   4wd   mid-size    SUV  \n",
       "304067    144000    automatic   rwd  full-size  sedan  \n",
       "304068    160000    automatic   rwd  full-size  sedan  \n",
       "304069    170000    automatic   rwd   mid-size  sedan  \n",
       "\n",
       "[304070 rows x 12 columns]"
      ]
     },
     "execution_count": 41,
     "metadata": {},
     "output_type": "execute_result"
    }
   ],
   "source": [
    "full = pd.merge(new_prices, used_car)\n",
    "full"
   ]
  },
  {
   "cell_type": "code",
   "execution_count": 42,
   "metadata": {},
   "outputs": [
    {
     "data": {
      "text/plain": [
       "(304070, 12)"
      ]
     },
     "execution_count": 42,
     "metadata": {},
     "output_type": "execute_result"
    }
   ],
   "source": [
    "full.shape"
   ]
  },
  {
   "cell_type": "markdown",
   "metadata": {},
   "source": [
    "The dataset was merged and the merged data contains 304,070 and 12 columns. "
   ]
  },
  {
   "cell_type": "code",
   "execution_count": 43,
   "metadata": {},
   "outputs": [
    {
     "data": {
      "text/plain": [
       "Model           0\n",
       "MSRP            0\n",
       "price           0\n",
       "year            0\n",
       "condition       0\n",
       "cylinders       0\n",
       "fuel            0\n",
       "odometer        0\n",
       "transmission    0\n",
       "drive           0\n",
       "size            0\n",
       "type            0\n",
       "dtype: int64"
      ]
     },
     "execution_count": 43,
     "metadata": {},
     "output_type": "execute_result"
    }
   ],
   "source": [
    "full.isnull().sum()"
   ]
  },
  {
   "cell_type": "code",
   "execution_count": 44,
   "metadata": {},
   "outputs": [
    {
     "data": {
      "text/plain": [
       "Model           object\n",
       "MSRP             int32\n",
       "price            int64\n",
       "year            object\n",
       "condition       object\n",
       "cylinders       object\n",
       "fuel            object\n",
       "odometer         int32\n",
       "transmission    object\n",
       "drive           object\n",
       "size            object\n",
       "type            object\n",
       "dtype: object"
      ]
     },
     "execution_count": 44,
     "metadata": {},
     "output_type": "execute_result"
    }
   ],
   "source": [
    "full.dtypes"
   ]
  },
  {
   "cell_type": "markdown",
   "metadata": {},
   "source": [
    "## EDA"
   ]
  },
  {
   "cell_type": "markdown",
   "metadata": {},
   "source": [
    "The features of used car vehicles: \n",
    "   - Condition: the state of the vehicle\n",
    "   - Cylinders: power unit of engine\n",
    "   - Fuel: type of vhicle power needed\n",
    "   - Transmission: vehicle gear system \n",
    "   - Drive: where the power of the engine is used in the wheels \n",
    "   - Size: body style of vehicle\n",
    "   - Type: vehicle classification\n",
    "   - Year: model year\n",
    "   - Odometer: the number of miles drive by vehicle\n",
    "   - Price: listed price by seller\n",
    "   - MSRP: value of model when new"
   ]
  },
  {
   "cell_type": "code",
   "execution_count": 45,
   "metadata": {},
   "outputs": [
    {
     "data": {
      "text/plain": [
       "array(['excellent', 'like new', 'good', 'new', 'fair', 'salvage'],\n",
       "      dtype=object)"
      ]
     },
     "execution_count": 45,
     "metadata": {},
     "output_type": "execute_result"
    }
   ],
   "source": [
    "full['condition'].unique()"
   ]
  },
  {
   "cell_type": "code",
   "execution_count": 46,
   "metadata": {},
   "outputs": [
    {
     "data": {
      "text/plain": [
       "array(['4 cylinders', '6 cylinders', '10 cylinders', '8 cylinders',\n",
       "       'other', '3 cylinders', '5 cylinders'], dtype=object)"
      ]
     },
     "execution_count": 46,
     "metadata": {},
     "output_type": "execute_result"
    }
   ],
   "source": [
    "full['cylinders'].unique()"
   ]
  },
  {
   "cell_type": "code",
   "execution_count": 47,
   "metadata": {},
   "outputs": [],
   "source": [
    "full['cylinders'] = full['cylinders'].replace(['other'],'other_cylinders')"
   ]
  },
  {
   "cell_type": "code",
   "execution_count": 48,
   "metadata": {},
   "outputs": [
    {
     "data": {
      "text/plain": [
       "array(['4 cylinders', '6 cylinders', '10 cylinders', '8 cylinders',\n",
       "       'other_cylinders', '3 cylinders', '5 cylinders'], dtype=object)"
      ]
     },
     "execution_count": 48,
     "metadata": {},
     "output_type": "execute_result"
    }
   ],
   "source": [
    "full['cylinders'].unique()"
   ]
  },
  {
   "cell_type": "code",
   "execution_count": 49,
   "metadata": {},
   "outputs": [
    {
     "data": {
      "text/plain": [
       "array(['gas', 'diesel', 'hybrid', 'electric', 'other'], dtype=object)"
      ]
     },
     "execution_count": 49,
     "metadata": {},
     "output_type": "execute_result"
    }
   ],
   "source": [
    "full['fuel'].unique()"
   ]
  },
  {
   "cell_type": "code",
   "execution_count": 50,
   "metadata": {},
   "outputs": [],
   "source": [
    "full['fuel'] = full['fuel'].replace(['other'],'other_fuel')"
   ]
  },
  {
   "cell_type": "code",
   "execution_count": 51,
   "metadata": {},
   "outputs": [
    {
     "data": {
      "text/plain": [
       "array(['gas', 'diesel', 'hybrid', 'electric', 'other_fuel'], dtype=object)"
      ]
     },
     "execution_count": 51,
     "metadata": {},
     "output_type": "execute_result"
    }
   ],
   "source": [
    "full['fuel'].unique()"
   ]
  },
  {
   "cell_type": "code",
   "execution_count": 52,
   "metadata": {},
   "outputs": [
    {
     "data": {
      "text/plain": [
       "array(['automatic', 'manual', 'other'], dtype=object)"
      ]
     },
     "execution_count": 52,
     "metadata": {},
     "output_type": "execute_result"
    }
   ],
   "source": [
    "full['transmission'].unique()"
   ]
  },
  {
   "cell_type": "code",
   "execution_count": 53,
   "metadata": {},
   "outputs": [],
   "source": [
    "full['transmission'] = full['transmission'].replace(['other'],'other_transmission')"
   ]
  },
  {
   "cell_type": "code",
   "execution_count": 54,
   "metadata": {},
   "outputs": [
    {
     "data": {
      "text/plain": [
       "array(['automatic', 'manual', 'other_transmission'], dtype=object)"
      ]
     },
     "execution_count": 54,
     "metadata": {},
     "output_type": "execute_result"
    }
   ],
   "source": [
    "full['transmission'].unique()"
   ]
  },
  {
   "cell_type": "code",
   "execution_count": 55,
   "metadata": {},
   "outputs": [
    {
     "data": {
      "text/plain": [
       "array(['4wd', 'fwd', 'rwd'], dtype=object)"
      ]
     },
     "execution_count": 55,
     "metadata": {},
     "output_type": "execute_result"
    }
   ],
   "source": [
    "full['drive'].unique()"
   ]
  },
  {
   "cell_type": "code",
   "execution_count": 56,
   "metadata": {},
   "outputs": [
    {
     "data": {
      "text/plain": [
       "array(['mid-size', 'full-size', 'compact', 'sub-compact'], dtype=object)"
      ]
     },
     "execution_count": 56,
     "metadata": {},
     "output_type": "execute_result"
    }
   ],
   "source": [
    "full['size'].unique()"
   ]
  },
  {
   "cell_type": "code",
   "execution_count": 57,
   "metadata": {},
   "outputs": [
    {
     "data": {
      "text/plain": [
       "array(['SUV', 'sedan', 'hatchback', 'mini-van', 'wagon', 'truck',\n",
       "       'offroad', 'convertible', 'coupe', 'pickup', 'other', 'van'],\n",
       "      dtype=object)"
      ]
     },
     "execution_count": 57,
     "metadata": {},
     "output_type": "execute_result"
    }
   ],
   "source": [
    "full['type'].unique()"
   ]
  },
  {
   "cell_type": "code",
   "execution_count": 58,
   "metadata": {},
   "outputs": [],
   "source": [
    "full['type'] = full['type'].replace(['other'],'other_type')"
   ]
  },
  {
   "cell_type": "code",
   "execution_count": 59,
   "metadata": {},
   "outputs": [
    {
     "data": {
      "text/plain": [
       "array(['SUV', 'sedan', 'hatchback', 'mini-van', 'wagon', 'truck',\n",
       "       'offroad', 'convertible', 'coupe', 'pickup', 'other_type', 'van'],\n",
       "      dtype=object)"
      ]
     },
     "execution_count": 59,
     "metadata": {},
     "output_type": "execute_result"
    }
   ],
   "source": [
    "full['type'].unique()"
   ]
  },
  {
   "cell_type": "code",
   "execution_count": 60,
   "metadata": {},
   "outputs": [],
   "source": [
    "full['year'] = full['year'].astype(int)\n",
    "full['price'] = full['price'].astype(int)\n",
    "full['odometer'] = full['odometer'].astype(int)\n",
    "full['MSRP'] = full['MSRP'].astype(int)"
   ]
  },
  {
   "cell_type": "code",
   "execution_count": 61,
   "metadata": {},
   "outputs": [
    {
     "data": {
      "text/plain": [
       "Model           object\n",
       "MSRP             int32\n",
       "price            int32\n",
       "year             int32\n",
       "condition       object\n",
       "cylinders       object\n",
       "fuel            object\n",
       "odometer         int32\n",
       "transmission    object\n",
       "drive           object\n",
       "size            object\n",
       "type            object\n",
       "dtype: object"
      ]
     },
     "execution_count": 61,
     "metadata": {},
     "output_type": "execute_result"
    }
   ],
   "source": [
    "full.dtypes"
   ]
  },
  {
   "cell_type": "code",
   "execution_count": 62,
   "metadata": {},
   "outputs": [
    {
     "data": {
      "text/plain": [
       "Model           25930\n",
       "MSRP            25930\n",
       "price           25930\n",
       "year            25930\n",
       "condition       25930\n",
       "cylinders       25930\n",
       "fuel            25930\n",
       "odometer        25930\n",
       "transmission    25930\n",
       "drive           25930\n",
       "size            25930\n",
       "type            25930\n",
       "dtype: int64"
      ]
     },
     "execution_count": 62,
     "metadata": {},
     "output_type": "execute_result"
    }
   ],
   "source": [
    "full[full['price'] == 0].count()"
   ]
  },
  {
   "cell_type": "code",
   "execution_count": 63,
   "metadata": {},
   "outputs": [],
   "source": [
    "full = full[full['price'] != 0]"
   ]
  },
  {
   "cell_type": "code",
   "execution_count": 64,
   "metadata": {},
   "outputs": [
    {
     "data": {
      "text/plain": [
       "Model           46\n",
       "MSRP            46\n",
       "price           46\n",
       "year            46\n",
       "condition       46\n",
       "cylinders       46\n",
       "fuel            46\n",
       "odometer        46\n",
       "transmission    46\n",
       "drive           46\n",
       "size            46\n",
       "type            46\n",
       "dtype: int64"
      ]
     },
     "execution_count": 64,
     "metadata": {},
     "output_type": "execute_result"
    }
   ],
   "source": [
    "full[full['price'] < 0].count()"
   ]
  },
  {
   "cell_type": "code",
   "execution_count": 65,
   "metadata": {},
   "outputs": [],
   "source": [
    "full = full[full['price'] > 0]"
   ]
  },
  {
   "cell_type": "code",
   "execution_count": 66,
   "metadata": {},
   "outputs": [
    {
     "data": {
      "text/plain": [
       "(278094, 12)"
      ]
     },
     "execution_count": 66,
     "metadata": {},
     "output_type": "execute_result"
    }
   ],
   "source": [
    "full.shape"
   ]
  },
  {
   "cell_type": "code",
   "execution_count": 67,
   "metadata": {},
   "outputs": [
    {
     "data": {
      "text/plain": [
       "Model           0\n",
       "MSRP            0\n",
       "price           0\n",
       "year            0\n",
       "condition       0\n",
       "cylinders       0\n",
       "fuel            0\n",
       "odometer        0\n",
       "transmission    0\n",
       "drive           0\n",
       "size            0\n",
       "type            0\n",
       "dtype: int64"
      ]
     },
     "execution_count": 67,
     "metadata": {},
     "output_type": "execute_result"
    }
   ],
   "source": [
    "full[full['MSRP'] < 0].count()"
   ]
  },
  {
   "cell_type": "code",
   "execution_count": 68,
   "metadata": {},
   "outputs": [
    {
     "data": {
      "text/plain": [
       "Model           0\n",
       "MSRP            0\n",
       "price           0\n",
       "year            0\n",
       "condition       0\n",
       "cylinders       0\n",
       "fuel            0\n",
       "odometer        0\n",
       "transmission    0\n",
       "drive           0\n",
       "size            0\n",
       "type            0\n",
       "dtype: int64"
      ]
     },
     "execution_count": 68,
     "metadata": {},
     "output_type": "execute_result"
    }
   ],
   "source": [
    "full[full['odometer'] < 0].count()"
   ]
  },
  {
   "cell_type": "code",
   "execution_count": 69,
   "metadata": {},
   "outputs": [
    {
     "data": {
      "text/plain": [
       "Model           0\n",
       "MSRP            0\n",
       "price           0\n",
       "year            0\n",
       "condition       0\n",
       "cylinders       0\n",
       "fuel            0\n",
       "odometer        0\n",
       "transmission    0\n",
       "drive           0\n",
       "size            0\n",
       "type            0\n",
       "dtype: int64"
      ]
     },
     "execution_count": 69,
     "metadata": {},
     "output_type": "execute_result"
    }
   ],
   "source": [
    "full[full['year'] < 0].count()"
   ]
  },
  {
   "cell_type": "markdown",
   "metadata": {},
   "source": [
    "The data is cleaned to ensure there are no 0 values or any values that are below 0. This will allow the data to not skew the data. "
   ]
  },
  {
   "cell_type": "markdown",
   "metadata": {},
   "source": [
    "The data will be evaluated to identify if there are any ouliers within the data. "
   ]
  },
  {
   "cell_type": "code",
   "execution_count": 70,
   "metadata": {},
   "outputs": [
    {
     "data": {
      "text/plain": [
       "16000.0"
      ]
     },
     "execution_count": 70,
     "metadata": {},
     "output_type": "execute_result"
    }
   ],
   "source": [
    "price_Q1 = np.quantile(full['price'],0.25)\n",
    "price_Q3 = np.quantile(full['price'],0.75)\n",
    "price_IQR = price_Q3 - price_Q1\n",
    "price_IQR"
   ]
  },
  {
   "cell_type": "code",
   "execution_count": 71,
   "metadata": {},
   "outputs": [
    {
     "name": "stdout",
     "output_type": "stream",
     "text": [
      "Percentiles: 25th=7995.000, 75th=23995.000, IQR=16000.000\n"
     ]
    }
   ],
   "source": [
    "cut_off = price_IQR * 1.5\n",
    "price_lower, price_upper = price_Q1 - cut_off, price_Q3 + cut_off\n",
    "print('Percentiles: 25th=%.3f, 75th=%.3f, IQR=%.3f' % (price_Q1, price_Q3, price_IQR))"
   ]
  },
  {
   "cell_type": "code",
   "execution_count": 72,
   "metadata": {},
   "outputs": [
    {
     "name": "stdout",
     "output_type": "stream",
     "text": [
      "outliers: 3892\n"
     ]
    }
   ],
   "source": [
    "price_outliers = [x for x in full['price'] if x < price_lower or x > price_upper]\n",
    "print('outliers: %d' % len(price_outliers))"
   ]
  },
  {
   "cell_type": "code",
   "execution_count": 73,
   "metadata": {},
   "outputs": [
    {
     "name": "stdout",
     "output_type": "stream",
     "text": [
      "Non-outlier: 274121\n"
     ]
    }
   ],
   "source": [
    "price_removed = [x for x in full['price'] if x > price_lower and x < price_upper]\n",
    "print('Non-outlier: %d' % len(price_removed))"
   ]
  },
  {
   "cell_type": "markdown",
   "metadata": {},
   "source": [
    "Within the price column, there are 3892 outliers and they will be dropped since there is enough data to be used without it. "
   ]
  },
  {
   "cell_type": "code",
   "execution_count": 74,
   "metadata": {},
   "outputs": [
    {
     "data": {
      "text/plain": [
       "(-16005.0, 47995.0)"
      ]
     },
     "execution_count": 74,
     "metadata": {},
     "output_type": "execute_result"
    }
   ],
   "source": [
    "price_lower, price_upper"
   ]
  },
  {
   "cell_type": "code",
   "execution_count": 75,
   "metadata": {},
   "outputs": [],
   "source": [
    "full = full[full['price'].between(-16005.0, 47995.0)]"
   ]
  },
  {
   "cell_type": "code",
   "execution_count": 76,
   "metadata": {},
   "outputs": [
    {
     "data": {
      "text/plain": [
       "(274202, 12)"
      ]
     },
     "execution_count": 76,
     "metadata": {},
     "output_type": "execute_result"
    }
   ],
   "source": [
    "full.shape"
   ]
  },
  {
   "cell_type": "code",
   "execution_count": 77,
   "metadata": {
    "scrolled": true
   },
   "outputs": [
    {
     "data": {
      "text/plain": [
       "<matplotlib.axes._subplots.AxesSubplot at 0x1b440ce4948>"
      ]
     },
     "execution_count": 77,
     "metadata": {},
     "output_type": "execute_result"
    },
    {
     "data": {
      "image/png": "[encoded data removed]",
      "text/plain": [
       "<Figure size 432x288 with 1 Axes>"
      ]
     },
     "metadata": {
      "needs_background": "light"
     },
     "output_type": "display_data"
    }
   ],
   "source": [
    "sns.boxplot(x=full['price'])"
   ]
  },
  {
   "cell_type": "markdown",
   "metadata": {},
   "source": [
    "Here is a box plot to have visual of the price ranges. "
   ]
  },
  {
   "cell_type": "code",
   "execution_count": 78,
   "metadata": {},
   "outputs": [
    {
     "name": "stdout",
     "output_type": "stream",
     "text": [
      "Percentiles: 25th=26374.000, 75th=38160.000, IQR=11786.000\n",
      "outliers: 3414\n",
      "Non-outlier: 270788\n"
     ]
    }
   ],
   "source": [
    "MSRP_Q1 = np.quantile(full['MSRP'],0.25)\n",
    "MSRP_Q3 = np.quantile(full['MSRP'],0.75)\n",
    "MSRP_IQR = MSRP_Q3 - MSRP_Q1\n",
    "MSRP_cut_off = MSRP_IQR * 1.5\n",
    "MSRP_lower, MSRP_upper = MSRP_Q1 - MSRP_cut_off, MSRP_Q3 + MSRP_cut_off\n",
    "MSRP_outliers = [x for x in full['MSRP'] if x < MSRP_lower or x > MSRP_upper]\n",
    "MSRP_removed = [x for x in full['MSRP'] if x > MSRP_lower and x < MSRP_upper]\n",
    "print('Percentiles: 25th=%.3f, 75th=%.3f, IQR=%.3f' % (MSRP_Q1, MSRP_Q3, MSRP_IQR))\n",
    "print('outliers: %d' % len(MSRP_outliers))\n",
    "print('Non-outlier: %d' % len(MSRP_removed))"
   ]
  },
  {
   "cell_type": "code",
   "execution_count": 79,
   "metadata": {},
   "outputs": [],
   "source": [
    "full = full[full['MSRP'].between(8695.0 , 55839.0)]"
   ]
  },
  {
   "cell_type": "code",
   "execution_count": 80,
   "metadata": {},
   "outputs": [
    {
     "data": {
      "text/plain": [
       "<matplotlib.axes._subplots.AxesSubplot at 0x1b4415813c8>"
      ]
     },
     "execution_count": 80,
     "metadata": {},
     "output_type": "execute_result"
    },
    {
     "data": {
      "image/png": "[encoded data removed]",
      "text/plain": [
       "<Figure size 432x288 with 1 Axes>"
      ]
     },
     "metadata": {
      "needs_background": "light"
     },
     "output_type": "display_data"
    }
   ],
   "source": [
    "sns.boxplot(x=full['MSRP'])"
   ]
  },
  {
   "cell_type": "code",
   "execution_count": 81,
   "metadata": {},
   "outputs": [
    {
     "name": "stdout",
     "output_type": "stream",
     "text": [
      "Percentiles: 25th=80121.000, 75th=158588.000, IQR=78467.000\n",
      "outliers: 3721\n",
      "Non-outlier: 267067\n"
     ]
    }
   ],
   "source": [
    "odo_Q1 = np.quantile(full['odometer'],0.25)\n",
    "odo_Q3 = np.quantile(full['odometer'],0.75)\n",
    "odo_IQR = odo_Q3 - odo_Q1\n",
    "odo_cut_off = odo_IQR * 1.5\n",
    "odo_lower, odo_upper = odo_Q1 - odo_cut_off, odo_Q3 + odo_cut_off\n",
    "odo_outliers = [x for x in full['odometer'] if x < odo_lower or x > odo_upper]\n",
    "odo_removed = [x for x in full['odometer'] if x > odo_lower and x < odo_upper]\n",
    "print('Percentiles: 25th=%.3f, 75th=%.3f, IQR=%.3f' % (odo_Q1, odo_Q3, odo_IQR))\n",
    "print('outliers: %d' % len(odo_outliers))\n",
    "print('Non-outlier: %d' % len(odo_removed))"
   ]
  },
  {
   "cell_type": "code",
   "execution_count": 82,
   "metadata": {},
   "outputs": [],
   "source": [
    "full = full[full['odometer'].between(-37579.5, 276288.5)]"
   ]
  },
  {
   "cell_type": "code",
   "execution_count": 83,
   "metadata": {},
   "outputs": [
    {
     "data": {
      "text/plain": [
       "<matplotlib.axes._subplots.AxesSubplot at 0x1b441f1c588>"
      ]
     },
     "execution_count": 83,
     "metadata": {},
     "output_type": "execute_result"
    },
    {
     "data": {
      "image/png": "[encoded data removed]",
      "text/plain": [
       "<Figure size 432x288 with 1 Axes>"
      ]
     },
     "metadata": {
      "needs_background": "light"
     },
     "output_type": "display_data"
    }
   ],
   "source": [
    "sns.boxplot(x=full['odometer'])"
   ]
  },
  {
   "cell_type": "code",
   "execution_count": 84,
   "metadata": {},
   "outputs": [
    {
     "data": {
      "text/plain": [
       "(267067, 12)"
      ]
     },
     "execution_count": 84,
     "metadata": {},
     "output_type": "execute_result"
    }
   ],
   "source": [
    "full.shape"
   ]
  },
  {
   "cell_type": "markdown",
   "metadata": {},
   "source": [
    "The new shape of the dataset is 267,067 rows after the outliers were removed. "
   ]
  },
  {
   "cell_type": "code",
   "execution_count": 85,
   "metadata": {},
   "outputs": [
    {
     "data": {
      "text/plain": [
       "count    267067.000000\n",
       "mean      16381.341671\n",
       "std       10343.272022\n",
       "min           1.000000\n",
       "25%        7995.000000\n",
       "50%       14800.000000\n",
       "75%       23000.000000\n",
       "max       47995.000000\n",
       "Name: price, dtype: float64"
      ]
     },
     "execution_count": 85,
     "metadata": {},
     "output_type": "execute_result"
    }
   ],
   "source": [
    "full['price'].describe()"
   ]
  },
  {
   "cell_type": "code",
   "execution_count": 86,
   "metadata": {},
   "outputs": [
    {
     "data": {
      "text/plain": [
       "count    267067.000000\n",
       "mean      32390.072252\n",
       "std        8688.119053\n",
       "min        8748.000000\n",
       "25%       26330.000000\n",
       "50%       31960.000000\n",
       "75%       37900.000000\n",
       "max       55835.000000\n",
       "Name: MSRP, dtype: float64"
      ]
     },
     "execution_count": 86,
     "metadata": {},
     "output_type": "execute_result"
    }
   ],
   "source": [
    "full['MSRP'].describe()"
   ]
  },
  {
   "cell_type": "code",
   "execution_count": 87,
   "metadata": {},
   "outputs": [
    {
     "data": {
      "text/plain": [
       "count    267067.000000\n",
       "mean       2011.245006\n",
       "std           4.621125\n",
       "min        1990.000000\n",
       "25%        2008.000000\n",
       "50%        2012.000000\n",
       "75%        2015.000000\n",
       "max        2019.000000\n",
       "Name: year, dtype: float64"
      ]
     },
     "execution_count": 87,
     "metadata": {},
     "output_type": "execute_result"
    }
   ],
   "source": [
    "full['year'].describe()"
   ]
  },
  {
   "cell_type": "code",
   "execution_count": 88,
   "metadata": {},
   "outputs": [
    {
     "data": {
      "text/plain": [
       "count    267067.000000\n",
       "mean     118559.055597\n",
       "std       56483.564264\n",
       "min           0.000000\n",
       "25%       79796.000000\n",
       "50%      117000.000000\n",
       "75%      157000.000000\n",
       "max      275670.000000\n",
       "Name: odometer, dtype: float64"
      ]
     },
     "execution_count": 88,
     "metadata": {},
     "output_type": "execute_result"
    }
   ],
   "source": [
    "full['odometer'].describe()"
   ]
  },
  {
   "cell_type": "code",
   "execution_count": 89,
   "metadata": {},
   "outputs": [
    {
     "data": {
      "text/plain": [
       "<seaborn.axisgrid.PairGrid at 0x1b4434d4a88>"
      ]
     },
     "execution_count": 89,
     "metadata": {},
     "output_type": "execute_result"
    },
    {
     "data": {
      "image/png": "[encoded data removed]",
      "text/plain": [
       "<Figure size 720x720 with 20 Axes>"
      ]
     },
     "metadata": {
      "needs_background": "light"
     },
     "output_type": "display_data"
    }
   ],
   "source": [
    "sns.pairplot(full)"
   ]
  },
  {
   "cell_type": "code",
   "execution_count": 90,
   "metadata": {},
   "outputs": [
    {
     "data": {
      "text/plain": [
       "<matplotlib.axes._subplots.AxesSubplot at 0x1b4448d4e48>"
      ]
     },
     "execution_count": 90,
     "metadata": {},
     "output_type": "execute_result"
    },
    {
     "data": {
      "image/png": "[encoded data removed]",
      "text/plain": [
       "<Figure size 432x288 with 2 Axes>"
      ]
     },
     "metadata": {
      "needs_background": "light"
     },
     "output_type": "display_data"
    }
   ],
   "source": [
    "sns.heatmap(full.corr(), annot=True)"
   ]
  },
  {
   "cell_type": "markdown",
   "metadata": {},
   "source": [
    "The pairplot shows the distribution of the numerical values within each column. Also the heatmap shows any correlations among the numerical values. There are some correlation but there is not strong correlations. There are also negative correlations. This is due to the price depriciating over time as well as the increase of the other features. "
   ]
  },
  {
   "cell_type": "markdown",
   "metadata": {},
   "source": [
    "The categorical data is explored using bar graphs to see the value count. "
   ]
  },
  {
   "cell_type": "code",
   "execution_count": 92,
   "metadata": {},
   "outputs": [
    {
     "data": {
      "image/png": "[encoded data removed]",
      "text/plain": [
       "<Figure size 432x288 with 1 Axes>"
      ]
     },
     "metadata": {
      "needs_background": "light"
     },
     "output_type": "display_data"
    }
   ],
   "source": [
    "sns.barplot(x=full['condition'].value_counts().keys(), y=full['condition'].value_counts())\n",
    "plt.ylabel('number of type of conditions')\n",
    "locs, labels = plt.xticks()\n",
    "plt.setp(labels, rotation=90)\n",
    "plt.title('condition types')\n",
    "plt.show()"
   ]
  },
  {
   "cell_type": "code",
   "execution_count": 93,
   "metadata": {},
   "outputs": [
    {
     "data": {
      "image/png": "[encoded data removed]",
      "text/plain": [
       "<Figure size 432x288 with 1 Axes>"
      ]
     },
     "metadata": {
      "needs_background": "light"
     },
     "output_type": "display_data"
    }
   ],
   "source": [
    "sns.barplot(x=full['cylinders'].value_counts().keys(), y=full['cylinders'].value_counts())\n",
    "plt.ylabel('number of type of cylinders')\n",
    "locs, labels = plt.xticks()\n",
    "plt.setp(labels, rotation=90)\n",
    "plt.title('cylinder types')\n",
    "plt.show()"
   ]
  },
  {
   "cell_type": "code",
   "execution_count": 94,
   "metadata": {},
   "outputs": [
    {
     "data": {
      "image/png": "[encoded data removed]",
      "text/plain": [
       "<Figure size 432x288 with 1 Axes>"
      ]
     },
     "metadata": {
      "needs_background": "light"
     },
     "output_type": "display_data"
    }
   ],
   "source": [
    "sns.barplot(x=full['fuel'].value_counts().keys(), y=full['fuel'].value_counts())\n",
    "plt.ylabel('number of type of fuel')\n",
    "locs, labels = plt.xticks()\n",
    "plt.setp(labels, rotation=90)\n",
    "plt.title('fuel types')\n",
    "plt.show()"
   ]
  },
  {
   "cell_type": "code",
   "execution_count": 95,
   "metadata": {},
   "outputs": [
    {
     "data": {
      "image/png": "[encoded data removed]",
      "text/plain": [
       "<Figure size 432x288 with 1 Axes>"
      ]
     },
     "metadata": {
      "needs_background": "light"
     },
     "output_type": "display_data"
    }
   ],
   "source": [
    "sns.barplot(x=full['transmission'].value_counts().keys(), y=full['transmission'].value_counts())\n",
    "plt.ylabel('number of type of transmission')\n",
    "locs, labels = plt.xticks()\n",
    "plt.setp(labels, rotation=90)\n",
    "plt.title('transmission types')\n",
    "plt.show()"
   ]
  },
  {
   "cell_type": "code",
   "execution_count": 96,
   "metadata": {},
   "outputs": [
    {
     "data": {
      "image/png": "[encoded data removed]",
      "text/plain": [
       "<Figure size 432x288 with 1 Axes>"
      ]
     },
     "metadata": {
      "needs_background": "light"
     },
     "output_type": "display_data"
    }
   ],
   "source": [
    "sns.barplot(x=full['drive'].value_counts().keys(), y=full['drive'].value_counts())\n",
    "plt.ylabel('number of type of drive')\n",
    "locs, labels = plt.xticks()\n",
    "plt.setp(labels, rotation=90)\n",
    "plt.title('drive types')\n",
    "plt.show()"
   ]
  },
  {
   "cell_type": "code",
   "execution_count": 97,
   "metadata": {},
   "outputs": [
    {
     "data": {
      "image/png": "[encoded data removed]",
      "text/plain": [
       "<Figure size 432x288 with 1 Axes>"
      ]
     },
     "metadata": {
      "needs_background": "light"
     },
     "output_type": "display_data"
    }
   ],
   "source": [
    "sns.barplot(x=full['size'].value_counts().keys(), y=full['size'].value_counts())\n",
    "plt.ylabel('number of type of size')\n",
    "locs, labels = plt.xticks()\n",
    "plt.setp(labels, rotation=90)\n",
    "plt.title('size types')\n",
    "plt.show()"
   ]
  },
  {
   "cell_type": "code",
   "execution_count": 98,
   "metadata": {},
   "outputs": [
    {
     "data": {
      "image/png": "[encoded data removed]",
      "text/plain": [
       "<Figure size 432x288 with 1 Axes>"
      ]
     },
     "metadata": {
      "needs_background": "light"
     },
     "output_type": "display_data"
    }
   ],
   "source": [
    "sns.barplot(x=full['type'].value_counts().keys(), y=full['type'].value_counts())\n",
    "plt.ylabel('number of type of vehicles')\n",
    "locs, labels = plt.xticks()\n",
    "plt.setp(labels, rotation=90)\n",
    "plt.title('vehicle types')\n",
    "plt.show()"
   ]
  },
  {
   "cell_type": "markdown",
   "metadata": {},
   "source": [
    "## Pre-Processing"
   ]
  },
  {
   "cell_type": "code",
   "execution_count": 100,
   "metadata": {},
   "outputs": [],
   "source": [
    "dummy = ['condition', 'cylinders', 'fuel',\n",
    "        'transmission', 'drive', 'size', 'type']"
   ]
  },
  {
   "cell_type": "code",
   "execution_count": 101,
   "metadata": {},
   "outputs": [],
   "source": [
    "new_X = full[dummy]"
   ]
  },
  {
   "cell_type": "code",
   "execution_count": 102,
   "metadata": {},
   "outputs": [],
   "source": [
    "new_X = pd.get_dummies(new_X)"
   ]
  },
  {
   "cell_type": "code",
   "execution_count": 103,
   "metadata": {},
   "outputs": [
    {
     "data": {
      "text/plain": [
       "(267067, 40)"
      ]
     },
     "execution_count": 103,
     "metadata": {},
     "output_type": "execute_result"
    }
   ],
   "source": [
    "new_X.shape"
   ]
  },
  {
   "cell_type": "markdown",
   "metadata": {},
   "source": [
    "The categorical data values are given numerical values using the get_dummies feature. The new shape of the data iset 267,067 rows and 40 columns. "
   ]
  },
  {
   "cell_type": "code",
   "execution_count": 104,
   "metadata": {},
   "outputs": [
    {
     "data": {
      "text/html": [
       "<div>\n",
       "<style scoped>\n",
       "    .dataframe tbody tr th:only-of-type {\n",
       "        vertical-align: middle;\n",
       "    }\n",
       "\n",
       "    .dataframe tbody tr th {\n",
       "        vertical-align: top;\n",
       "    }\n",
       "\n",
       "    .dataframe thead th {\n",
       "        text-align: right;\n",
       "    }\n",
       "</style>\n",
       "<table border=\"1\" class=\"dataframe\">\n",
       "  <thead>\n",
       "    <tr style=\"text-align: right;\">\n",
       "      <th></th>\n",
       "      <th>Model</th>\n",
       "      <th>MSRP</th>\n",
       "      <th>price</th>\n",
       "      <th>year</th>\n",
       "      <th>condition</th>\n",
       "      <th>cylinders</th>\n",
       "      <th>fuel</th>\n",
       "      <th>odometer</th>\n",
       "      <th>transmission</th>\n",
       "      <th>drive</th>\n",
       "      <th>...</th>\n",
       "      <th>type_coupe</th>\n",
       "      <th>type_hatchback</th>\n",
       "      <th>type_mini-van</th>\n",
       "      <th>type_offroad</th>\n",
       "      <th>type_other_type</th>\n",
       "      <th>type_pickup</th>\n",
       "      <th>type_sedan</th>\n",
       "      <th>type_truck</th>\n",
       "      <th>type_van</th>\n",
       "      <th>type_wagon</th>\n",
       "    </tr>\n",
       "  </thead>\n",
       "  <tbody>\n",
       "    <tr>\n",
       "      <th>0</th>\n",
       "      <td>2019 acura rdx</td>\n",
       "      <td>40600</td>\n",
       "      <td>36250</td>\n",
       "      <td>2019</td>\n",
       "      <td>excellent</td>\n",
       "      <td>4 cylinders</td>\n",
       "      <td>gas</td>\n",
       "      <td>31250</td>\n",
       "      <td>automatic</td>\n",
       "      <td>4wd</td>\n",
       "      <td>...</td>\n",
       "      <td>0</td>\n",
       "      <td>0</td>\n",
       "      <td>0</td>\n",
       "      <td>0</td>\n",
       "      <td>0</td>\n",
       "      <td>0</td>\n",
       "      <td>0</td>\n",
       "      <td>0</td>\n",
       "      <td>0</td>\n",
       "      <td>0</td>\n",
       "    </tr>\n",
       "    <tr>\n",
       "      <th>1</th>\n",
       "      <td>2019 acura rdx</td>\n",
       "      <td>45500</td>\n",
       "      <td>36250</td>\n",
       "      <td>2019</td>\n",
       "      <td>excellent</td>\n",
       "      <td>4 cylinders</td>\n",
       "      <td>gas</td>\n",
       "      <td>31250</td>\n",
       "      <td>automatic</td>\n",
       "      <td>4wd</td>\n",
       "      <td>...</td>\n",
       "      <td>0</td>\n",
       "      <td>0</td>\n",
       "      <td>0</td>\n",
       "      <td>0</td>\n",
       "      <td>0</td>\n",
       "      <td>0</td>\n",
       "      <td>0</td>\n",
       "      <td>0</td>\n",
       "      <td>0</td>\n",
       "      <td>0</td>\n",
       "    </tr>\n",
       "    <tr>\n",
       "      <th>2</th>\n",
       "      <td>2019 acura rdx</td>\n",
       "      <td>43600</td>\n",
       "      <td>36250</td>\n",
       "      <td>2019</td>\n",
       "      <td>excellent</td>\n",
       "      <td>4 cylinders</td>\n",
       "      <td>gas</td>\n",
       "      <td>31250</td>\n",
       "      <td>automatic</td>\n",
       "      <td>4wd</td>\n",
       "      <td>...</td>\n",
       "      <td>0</td>\n",
       "      <td>0</td>\n",
       "      <td>0</td>\n",
       "      <td>0</td>\n",
       "      <td>0</td>\n",
       "      <td>0</td>\n",
       "      <td>0</td>\n",
       "      <td>0</td>\n",
       "      <td>0</td>\n",
       "      <td>0</td>\n",
       "    </tr>\n",
       "    <tr>\n",
       "      <th>3</th>\n",
       "      <td>2019 acura rdx</td>\n",
       "      <td>37400</td>\n",
       "      <td>36250</td>\n",
       "      <td>2019</td>\n",
       "      <td>excellent</td>\n",
       "      <td>4 cylinders</td>\n",
       "      <td>gas</td>\n",
       "      <td>31250</td>\n",
       "      <td>automatic</td>\n",
       "      <td>4wd</td>\n",
       "      <td>...</td>\n",
       "      <td>0</td>\n",
       "      <td>0</td>\n",
       "      <td>0</td>\n",
       "      <td>0</td>\n",
       "      <td>0</td>\n",
       "      <td>0</td>\n",
       "      <td>0</td>\n",
       "      <td>0</td>\n",
       "      <td>0</td>\n",
       "      <td>0</td>\n",
       "    </tr>\n",
       "    <tr>\n",
       "      <th>4</th>\n",
       "      <td>2019 acura rdx</td>\n",
       "      <td>42600</td>\n",
       "      <td>36250</td>\n",
       "      <td>2019</td>\n",
       "      <td>excellent</td>\n",
       "      <td>4 cylinders</td>\n",
       "      <td>gas</td>\n",
       "      <td>31250</td>\n",
       "      <td>automatic</td>\n",
       "      <td>4wd</td>\n",
       "      <td>...</td>\n",
       "      <td>0</td>\n",
       "      <td>0</td>\n",
       "      <td>0</td>\n",
       "      <td>0</td>\n",
       "      <td>0</td>\n",
       "      <td>0</td>\n",
       "      <td>0</td>\n",
       "      <td>0</td>\n",
       "      <td>0</td>\n",
       "      <td>0</td>\n",
       "    </tr>\n",
       "  </tbody>\n",
       "</table>\n",
       "<p>5 rows × 52 columns</p>\n",
       "</div>"
      ],
      "text/plain": [
       "            Model   MSRP  price  year  condition    cylinders fuel  odometer  \\\n",
       "0  2019 acura rdx  40600  36250  2019  excellent  4 cylinders  gas     31250   \n",
       "1  2019 acura rdx  45500  36250  2019  excellent  4 cylinders  gas     31250   \n",
       "2  2019 acura rdx  43600  36250  2019  excellent  4 cylinders  gas     31250   \n",
       "3  2019 acura rdx  37400  36250  2019  excellent  4 cylinders  gas     31250   \n",
       "4  2019 acura rdx  42600  36250  2019  excellent  4 cylinders  gas     31250   \n",
       "\n",
       "  transmission drive  ... type_coupe type_hatchback  type_mini-van  \\\n",
       "0    automatic   4wd  ...          0              0              0   \n",
       "1    automatic   4wd  ...          0              0              0   \n",
       "2    automatic   4wd  ...          0              0              0   \n",
       "3    automatic   4wd  ...          0              0              0   \n",
       "4    automatic   4wd  ...          0              0              0   \n",
       "\n",
       "   type_offroad  type_other_type  type_pickup  type_sedan  type_truck  \\\n",
       "0             0                0            0           0           0   \n",
       "1             0                0            0           0           0   \n",
       "2             0                0            0           0           0   \n",
       "3             0                0            0           0           0   \n",
       "4             0                0            0           0           0   \n",
       "\n",
       "   type_van  type_wagon  \n",
       "0         0           0  \n",
       "1         0           0  \n",
       "2         0           0  \n",
       "3         0           0  \n",
       "4         0           0  \n",
       "\n",
       "[5 rows x 52 columns]"
      ]
     },
     "execution_count": 104,
     "metadata": {},
     "output_type": "execute_result"
    }
   ],
   "source": [
    "test_data = pd.concat([full, new_X], axis=1)\n",
    "test_data.head()"
   ]
  },
  {
   "cell_type": "code",
   "execution_count": 105,
   "metadata": {},
   "outputs": [
    {
     "data": {
      "text/html": [
       "<div>\n",
       "<style scoped>\n",
       "    .dataframe tbody tr th:only-of-type {\n",
       "        vertical-align: middle;\n",
       "    }\n",
       "\n",
       "    .dataframe tbody tr th {\n",
       "        vertical-align: top;\n",
       "    }\n",
       "\n",
       "    .dataframe thead th {\n",
       "        text-align: right;\n",
       "    }\n",
       "</style>\n",
       "<table border=\"1\" class=\"dataframe\">\n",
       "  <thead>\n",
       "    <tr style=\"text-align: right;\">\n",
       "      <th></th>\n",
       "      <th>MSRP</th>\n",
       "      <th>year</th>\n",
       "      <th>odometer</th>\n",
       "      <th>condition_excellent</th>\n",
       "      <th>condition_fair</th>\n",
       "      <th>condition_good</th>\n",
       "      <th>condition_like new</th>\n",
       "      <th>condition_new</th>\n",
       "      <th>condition_salvage</th>\n",
       "      <th>cylinders_10 cylinders</th>\n",
       "      <th>...</th>\n",
       "      <th>type_coupe</th>\n",
       "      <th>type_hatchback</th>\n",
       "      <th>type_mini-van</th>\n",
       "      <th>type_offroad</th>\n",
       "      <th>type_other_type</th>\n",
       "      <th>type_pickup</th>\n",
       "      <th>type_sedan</th>\n",
       "      <th>type_truck</th>\n",
       "      <th>type_van</th>\n",
       "      <th>type_wagon</th>\n",
       "    </tr>\n",
       "  </thead>\n",
       "  <tbody>\n",
       "    <tr>\n",
       "      <th>0</th>\n",
       "      <td>40600</td>\n",
       "      <td>2019</td>\n",
       "      <td>31250</td>\n",
       "      <td>1</td>\n",
       "      <td>0</td>\n",
       "      <td>0</td>\n",
       "      <td>0</td>\n",
       "      <td>0</td>\n",
       "      <td>0</td>\n",
       "      <td>0</td>\n",
       "      <td>...</td>\n",
       "      <td>0</td>\n",
       "      <td>0</td>\n",
       "      <td>0</td>\n",
       "      <td>0</td>\n",
       "      <td>0</td>\n",
       "      <td>0</td>\n",
       "      <td>0</td>\n",
       "      <td>0</td>\n",
       "      <td>0</td>\n",
       "      <td>0</td>\n",
       "    </tr>\n",
       "    <tr>\n",
       "      <th>1</th>\n",
       "      <td>45500</td>\n",
       "      <td>2019</td>\n",
       "      <td>31250</td>\n",
       "      <td>1</td>\n",
       "      <td>0</td>\n",
       "      <td>0</td>\n",
       "      <td>0</td>\n",
       "      <td>0</td>\n",
       "      <td>0</td>\n",
       "      <td>0</td>\n",
       "      <td>...</td>\n",
       "      <td>0</td>\n",
       "      <td>0</td>\n",
       "      <td>0</td>\n",
       "      <td>0</td>\n",
       "      <td>0</td>\n",
       "      <td>0</td>\n",
       "      <td>0</td>\n",
       "      <td>0</td>\n",
       "      <td>0</td>\n",
       "      <td>0</td>\n",
       "    </tr>\n",
       "    <tr>\n",
       "      <th>2</th>\n",
       "      <td>43600</td>\n",
       "      <td>2019</td>\n",
       "      <td>31250</td>\n",
       "      <td>1</td>\n",
       "      <td>0</td>\n",
       "      <td>0</td>\n",
       "      <td>0</td>\n",
       "      <td>0</td>\n",
       "      <td>0</td>\n",
       "      <td>0</td>\n",
       "      <td>...</td>\n",
       "      <td>0</td>\n",
       "      <td>0</td>\n",
       "      <td>0</td>\n",
       "      <td>0</td>\n",
       "      <td>0</td>\n",
       "      <td>0</td>\n",
       "      <td>0</td>\n",
       "      <td>0</td>\n",
       "      <td>0</td>\n",
       "      <td>0</td>\n",
       "    </tr>\n",
       "    <tr>\n",
       "      <th>3</th>\n",
       "      <td>37400</td>\n",
       "      <td>2019</td>\n",
       "      <td>31250</td>\n",
       "      <td>1</td>\n",
       "      <td>0</td>\n",
       "      <td>0</td>\n",
       "      <td>0</td>\n",
       "      <td>0</td>\n",
       "      <td>0</td>\n",
       "      <td>0</td>\n",
       "      <td>...</td>\n",
       "      <td>0</td>\n",
       "      <td>0</td>\n",
       "      <td>0</td>\n",
       "      <td>0</td>\n",
       "      <td>0</td>\n",
       "      <td>0</td>\n",
       "      <td>0</td>\n",
       "      <td>0</td>\n",
       "      <td>0</td>\n",
       "      <td>0</td>\n",
       "    </tr>\n",
       "    <tr>\n",
       "      <th>4</th>\n",
       "      <td>42600</td>\n",
       "      <td>2019</td>\n",
       "      <td>31250</td>\n",
       "      <td>1</td>\n",
       "      <td>0</td>\n",
       "      <td>0</td>\n",
       "      <td>0</td>\n",
       "      <td>0</td>\n",
       "      <td>0</td>\n",
       "      <td>0</td>\n",
       "      <td>...</td>\n",
       "      <td>0</td>\n",
       "      <td>0</td>\n",
       "      <td>0</td>\n",
       "      <td>0</td>\n",
       "      <td>0</td>\n",
       "      <td>0</td>\n",
       "      <td>0</td>\n",
       "      <td>0</td>\n",
       "      <td>0</td>\n",
       "      <td>0</td>\n",
       "    </tr>\n",
       "    <tr>\n",
       "      <th>...</th>\n",
       "      <td>...</td>\n",
       "      <td>...</td>\n",
       "      <td>...</td>\n",
       "      <td>...</td>\n",
       "      <td>...</td>\n",
       "      <td>...</td>\n",
       "      <td>...</td>\n",
       "      <td>...</td>\n",
       "      <td>...</td>\n",
       "      <td>...</td>\n",
       "      <td>...</td>\n",
       "      <td>...</td>\n",
       "      <td>...</td>\n",
       "      <td>...</td>\n",
       "      <td>...</td>\n",
       "      <td>...</td>\n",
       "      <td>...</td>\n",
       "      <td>...</td>\n",
       "      <td>...</td>\n",
       "      <td>...</td>\n",
       "      <td>...</td>\n",
       "    </tr>\n",
       "    <tr>\n",
       "      <th>304065</th>\n",
       "      <td>35100</td>\n",
       "      <td>2003</td>\n",
       "      <td>205000</td>\n",
       "      <td>0</td>\n",
       "      <td>0</td>\n",
       "      <td>1</td>\n",
       "      <td>0</td>\n",
       "      <td>0</td>\n",
       "      <td>0</td>\n",
       "      <td>0</td>\n",
       "      <td>...</td>\n",
       "      <td>0</td>\n",
       "      <td>0</td>\n",
       "      <td>0</td>\n",
       "      <td>0</td>\n",
       "      <td>0</td>\n",
       "      <td>0</td>\n",
       "      <td>0</td>\n",
       "      <td>0</td>\n",
       "      <td>0</td>\n",
       "      <td>0</td>\n",
       "    </tr>\n",
       "    <tr>\n",
       "      <th>304066</th>\n",
       "      <td>35100</td>\n",
       "      <td>2003</td>\n",
       "      <td>109000</td>\n",
       "      <td>0</td>\n",
       "      <td>1</td>\n",
       "      <td>0</td>\n",
       "      <td>0</td>\n",
       "      <td>0</td>\n",
       "      <td>0</td>\n",
       "      <td>0</td>\n",
       "      <td>...</td>\n",
       "      <td>0</td>\n",
       "      <td>0</td>\n",
       "      <td>0</td>\n",
       "      <td>0</td>\n",
       "      <td>0</td>\n",
       "      <td>0</td>\n",
       "      <td>0</td>\n",
       "      <td>0</td>\n",
       "      <td>0</td>\n",
       "      <td>0</td>\n",
       "    </tr>\n",
       "    <tr>\n",
       "      <th>304067</th>\n",
       "      <td>34300</td>\n",
       "      <td>1998</td>\n",
       "      <td>144000</td>\n",
       "      <td>0</td>\n",
       "      <td>0</td>\n",
       "      <td>1</td>\n",
       "      <td>0</td>\n",
       "      <td>0</td>\n",
       "      <td>0</td>\n",
       "      <td>0</td>\n",
       "      <td>...</td>\n",
       "      <td>0</td>\n",
       "      <td>0</td>\n",
       "      <td>0</td>\n",
       "      <td>0</td>\n",
       "      <td>0</td>\n",
       "      <td>0</td>\n",
       "      <td>1</td>\n",
       "      <td>0</td>\n",
       "      <td>0</td>\n",
       "      <td>0</td>\n",
       "    </tr>\n",
       "    <tr>\n",
       "      <th>304068</th>\n",
       "      <td>34300</td>\n",
       "      <td>1998</td>\n",
       "      <td>160000</td>\n",
       "      <td>0</td>\n",
       "      <td>0</td>\n",
       "      <td>1</td>\n",
       "      <td>0</td>\n",
       "      <td>0</td>\n",
       "      <td>0</td>\n",
       "      <td>0</td>\n",
       "      <td>...</td>\n",
       "      <td>0</td>\n",
       "      <td>0</td>\n",
       "      <td>0</td>\n",
       "      <td>0</td>\n",
       "      <td>0</td>\n",
       "      <td>0</td>\n",
       "      <td>1</td>\n",
       "      <td>0</td>\n",
       "      <td>0</td>\n",
       "      <td>0</td>\n",
       "    </tr>\n",
       "    <tr>\n",
       "      <th>304069</th>\n",
       "      <td>34300</td>\n",
       "      <td>1998</td>\n",
       "      <td>170000</td>\n",
       "      <td>0</td>\n",
       "      <td>0</td>\n",
       "      <td>1</td>\n",
       "      <td>0</td>\n",
       "      <td>0</td>\n",
       "      <td>0</td>\n",
       "      <td>0</td>\n",
       "      <td>...</td>\n",
       "      <td>0</td>\n",
       "      <td>0</td>\n",
       "      <td>0</td>\n",
       "      <td>0</td>\n",
       "      <td>0</td>\n",
       "      <td>0</td>\n",
       "      <td>1</td>\n",
       "      <td>0</td>\n",
       "      <td>0</td>\n",
       "      <td>0</td>\n",
       "    </tr>\n",
       "  </tbody>\n",
       "</table>\n",
       "<p>267067 rows × 43 columns</p>\n",
       "</div>"
      ],
      "text/plain": [
       "         MSRP  year  odometer  condition_excellent  condition_fair  \\\n",
       "0       40600  2019     31250                    1               0   \n",
       "1       45500  2019     31250                    1               0   \n",
       "2       43600  2019     31250                    1               0   \n",
       "3       37400  2019     31250                    1               0   \n",
       "4       42600  2019     31250                    1               0   \n",
       "...       ...   ...       ...                  ...             ...   \n",
       "304065  35100  2003    205000                    0               0   \n",
       "304066  35100  2003    109000                    0               1   \n",
       "304067  34300  1998    144000                    0               0   \n",
       "304068  34300  1998    160000                    0               0   \n",
       "304069  34300  1998    170000                    0               0   \n",
       "\n",
       "        condition_good  condition_like new  condition_new  condition_salvage  \\\n",
       "0                    0                   0              0                  0   \n",
       "1                    0                   0              0                  0   \n",
       "2                    0                   0              0                  0   \n",
       "3                    0                   0              0                  0   \n",
       "4                    0                   0              0                  0   \n",
       "...                ...                 ...            ...                ...   \n",
       "304065               1                   0              0                  0   \n",
       "304066               0                   0              0                  0   \n",
       "304067               1                   0              0                  0   \n",
       "304068               1                   0              0                  0   \n",
       "304069               1                   0              0                  0   \n",
       "\n",
       "        cylinders_10 cylinders  ...  type_coupe  type_hatchback  \\\n",
       "0                            0  ...           0               0   \n",
       "1                            0  ...           0               0   \n",
       "2                            0  ...           0               0   \n",
       "3                            0  ...           0               0   \n",
       "4                            0  ...           0               0   \n",
       "...                        ...  ...         ...             ...   \n",
       "304065                       0  ...           0               0   \n",
       "304066                       0  ...           0               0   \n",
       "304067                       0  ...           0               0   \n",
       "304068                       0  ...           0               0   \n",
       "304069                       0  ...           0               0   \n",
       "\n",
       "        type_mini-van  type_offroad  type_other_type  type_pickup  type_sedan  \\\n",
       "0                   0             0                0            0           0   \n",
       "1                   0             0                0            0           0   \n",
       "2                   0             0                0            0           0   \n",
       "3                   0             0                0            0           0   \n",
       "4                   0             0                0            0           0   \n",
       "...               ...           ...              ...          ...         ...   \n",
       "304065              0             0                0            0           0   \n",
       "304066              0             0                0            0           0   \n",
       "304067              0             0                0            0           1   \n",
       "304068              0             0                0            0           1   \n",
       "304069              0             0                0            0           1   \n",
       "\n",
       "        type_truck  type_van  type_wagon  \n",
       "0                0         0           0  \n",
       "1                0         0           0  \n",
       "2                0         0           0  \n",
       "3                0         0           0  \n",
       "4                0         0           0  \n",
       "...            ...       ...         ...  \n",
       "304065           0         0           0  \n",
       "304066           0         0           0  \n",
       "304067           0         0           0  \n",
       "304068           0         0           0  \n",
       "304069           0         0           0  \n",
       "\n",
       "[267067 rows x 43 columns]"
      ]
     },
     "execution_count": 105,
     "metadata": {},
     "output_type": "execute_result"
    }
   ],
   "source": [
    "test_data = test_data.drop(columns=['Model', 'price', 'condition', 'cylinders', 'fuel',\n",
    "        'transmission', 'drive', 'size', 'type'])\n",
    "test_data"
   ]
  },
  {
   "cell_type": "code",
   "execution_count": 106,
   "metadata": {},
   "outputs": [],
   "source": [
    "from sklearn.preprocessing import StandardScaler\n",
    "\n",
    "scaler = StandardScaler()"
   ]
  },
  {
   "cell_type": "code",
   "execution_count": 107,
   "metadata": {},
   "outputs": [],
   "source": [
    "scaled = scaler.fit_transform(test_data)"
   ]
  },
  {
   "cell_type": "code",
   "execution_count": 108,
   "metadata": {},
   "outputs": [],
   "source": [
    "scaled = pd.DataFrame(scaled)"
   ]
  },
  {
   "cell_type": "code",
   "execution_count": 109,
   "metadata": {},
   "outputs": [
    {
     "data": {
      "text/html": [
       "<div>\n",
       "<style scoped>\n",
       "    .dataframe tbody tr th:only-of-type {\n",
       "        vertical-align: middle;\n",
       "    }\n",
       "\n",
       "    .dataframe tbody tr th {\n",
       "        vertical-align: top;\n",
       "    }\n",
       "\n",
       "    .dataframe thead th {\n",
       "        text-align: right;\n",
       "    }\n",
       "</style>\n",
       "<table border=\"1\" class=\"dataframe\">\n",
       "  <thead>\n",
       "    <tr style=\"text-align: right;\">\n",
       "      <th></th>\n",
       "      <th>0</th>\n",
       "      <th>1</th>\n",
       "      <th>2</th>\n",
       "      <th>3</th>\n",
       "      <th>4</th>\n",
       "      <th>5</th>\n",
       "      <th>6</th>\n",
       "      <th>7</th>\n",
       "      <th>8</th>\n",
       "      <th>9</th>\n",
       "      <th>...</th>\n",
       "      <th>33</th>\n",
       "      <th>34</th>\n",
       "      <th>35</th>\n",
       "      <th>36</th>\n",
       "      <th>37</th>\n",
       "      <th>38</th>\n",
       "      <th>39</th>\n",
       "      <th>40</th>\n",
       "      <th>41</th>\n",
       "      <th>42</th>\n",
       "    </tr>\n",
       "  </thead>\n",
       "  <tbody>\n",
       "    <tr>\n",
       "      <th>0</th>\n",
       "      <td>0.944962</td>\n",
       "      <td>1.678165</td>\n",
       "      <td>-1.545746</td>\n",
       "      <td>0.934301</td>\n",
       "      <td>-0.161443</td>\n",
       "      <td>-0.734576</td>\n",
       "      <td>-0.303601</td>\n",
       "      <td>-0.064075</td>\n",
       "      <td>-0.041356</td>\n",
       "      <td>-0.07739</td>\n",
       "      <td>...</td>\n",
       "      <td>-0.129352</td>\n",
       "      <td>-0.119192</td>\n",
       "      <td>-0.080063</td>\n",
       "      <td>-0.032627</td>\n",
       "      <td>-0.029928</td>\n",
       "      <td>-0.556228</td>\n",
       "      <td>-0.380436</td>\n",
       "      <td>-1.013052</td>\n",
       "      <td>-0.062796</td>\n",
       "      <td>-0.119853</td>\n",
       "    </tr>\n",
       "    <tr>\n",
       "      <th>1</th>\n",
       "      <td>1.508952</td>\n",
       "      <td>1.678165</td>\n",
       "      <td>-1.545746</td>\n",
       "      <td>0.934301</td>\n",
       "      <td>-0.161443</td>\n",
       "      <td>-0.734576</td>\n",
       "      <td>-0.303601</td>\n",
       "      <td>-0.064075</td>\n",
       "      <td>-0.041356</td>\n",
       "      <td>-0.07739</td>\n",
       "      <td>...</td>\n",
       "      <td>-0.129352</td>\n",
       "      <td>-0.119192</td>\n",
       "      <td>-0.080063</td>\n",
       "      <td>-0.032627</td>\n",
       "      <td>-0.029928</td>\n",
       "      <td>-0.556228</td>\n",
       "      <td>-0.380436</td>\n",
       "      <td>-1.013052</td>\n",
       "      <td>-0.062796</td>\n",
       "      <td>-0.119853</td>\n",
       "    </tr>\n",
       "    <tr>\n",
       "      <th>2</th>\n",
       "      <td>1.290262</td>\n",
       "      <td>1.678165</td>\n",
       "      <td>-1.545746</td>\n",
       "      <td>0.934301</td>\n",
       "      <td>-0.161443</td>\n",
       "      <td>-0.734576</td>\n",
       "      <td>-0.303601</td>\n",
       "      <td>-0.064075</td>\n",
       "      <td>-0.041356</td>\n",
       "      <td>-0.07739</td>\n",
       "      <td>...</td>\n",
       "      <td>-0.129352</td>\n",
       "      <td>-0.119192</td>\n",
       "      <td>-0.080063</td>\n",
       "      <td>-0.032627</td>\n",
       "      <td>-0.029928</td>\n",
       "      <td>-0.556228</td>\n",
       "      <td>-0.380436</td>\n",
       "      <td>-1.013052</td>\n",
       "      <td>-0.062796</td>\n",
       "      <td>-0.119853</td>\n",
       "    </tr>\n",
       "    <tr>\n",
       "      <th>3</th>\n",
       "      <td>0.576642</td>\n",
       "      <td>1.678165</td>\n",
       "      <td>-1.545746</td>\n",
       "      <td>0.934301</td>\n",
       "      <td>-0.161443</td>\n",
       "      <td>-0.734576</td>\n",
       "      <td>-0.303601</td>\n",
       "      <td>-0.064075</td>\n",
       "      <td>-0.041356</td>\n",
       "      <td>-0.07739</td>\n",
       "      <td>...</td>\n",
       "      <td>-0.129352</td>\n",
       "      <td>-0.119192</td>\n",
       "      <td>-0.080063</td>\n",
       "      <td>-0.032627</td>\n",
       "      <td>-0.029928</td>\n",
       "      <td>-0.556228</td>\n",
       "      <td>-0.380436</td>\n",
       "      <td>-1.013052</td>\n",
       "      <td>-0.062796</td>\n",
       "      <td>-0.119853</td>\n",
       "    </tr>\n",
       "    <tr>\n",
       "      <th>4</th>\n",
       "      <td>1.175162</td>\n",
       "      <td>1.678165</td>\n",
       "      <td>-1.545746</td>\n",
       "      <td>0.934301</td>\n",
       "      <td>-0.161443</td>\n",
       "      <td>-0.734576</td>\n",
       "      <td>-0.303601</td>\n",
       "      <td>-0.064075</td>\n",
       "      <td>-0.041356</td>\n",
       "      <td>-0.07739</td>\n",
       "      <td>...</td>\n",
       "      <td>-0.129352</td>\n",
       "      <td>-0.119192</td>\n",
       "      <td>-0.080063</td>\n",
       "      <td>-0.032627</td>\n",
       "      <td>-0.029928</td>\n",
       "      <td>-0.556228</td>\n",
       "      <td>-0.380436</td>\n",
       "      <td>-1.013052</td>\n",
       "      <td>-0.062796</td>\n",
       "      <td>-0.119853</td>\n",
       "    </tr>\n",
       "  </tbody>\n",
       "</table>\n",
       "<p>5 rows × 43 columns</p>\n",
       "</div>"
      ],
      "text/plain": [
       "         0         1         2         3         4         5         6   \\\n",
       "0  0.944962  1.678165 -1.545746  0.934301 -0.161443 -0.734576 -0.303601   \n",
       "1  1.508952  1.678165 -1.545746  0.934301 -0.161443 -0.734576 -0.303601   \n",
       "2  1.290262  1.678165 -1.545746  0.934301 -0.161443 -0.734576 -0.303601   \n",
       "3  0.576642  1.678165 -1.545746  0.934301 -0.161443 -0.734576 -0.303601   \n",
       "4  1.175162  1.678165 -1.545746  0.934301 -0.161443 -0.734576 -0.303601   \n",
       "\n",
       "         7         8        9   ...        33        34        35        36  \\\n",
       "0 -0.064075 -0.041356 -0.07739  ... -0.129352 -0.119192 -0.080063 -0.032627   \n",
       "1 -0.064075 -0.041356 -0.07739  ... -0.129352 -0.119192 -0.080063 -0.032627   \n",
       "2 -0.064075 -0.041356 -0.07739  ... -0.129352 -0.119192 -0.080063 -0.032627   \n",
       "3 -0.064075 -0.041356 -0.07739  ... -0.129352 -0.119192 -0.080063 -0.032627   \n",
       "4 -0.064075 -0.041356 -0.07739  ... -0.129352 -0.119192 -0.080063 -0.032627   \n",
       "\n",
       "         37        38        39        40        41        42  \n",
       "0 -0.029928 -0.556228 -0.380436 -1.013052 -0.062796 -0.119853  \n",
       "1 -0.029928 -0.556228 -0.380436 -1.013052 -0.062796 -0.119853  \n",
       "2 -0.029928 -0.556228 -0.380436 -1.013052 -0.062796 -0.119853  \n",
       "3 -0.029928 -0.556228 -0.380436 -1.013052 -0.062796 -0.119853  \n",
       "4 -0.029928 -0.556228 -0.380436 -1.013052 -0.062796 -0.119853  \n",
       "\n",
       "[5 rows x 43 columns]"
      ]
     },
     "execution_count": 109,
     "metadata": {},
     "output_type": "execute_result"
    }
   ],
   "source": [
    "scaled.head()"
   ]
  },
  {
   "cell_type": "markdown",
   "metadata": {},
   "source": [
    "The data is then scaled in order for it to be evaluated. "
   ]
  },
  {
   "cell_type": "markdown",
   "metadata": {},
   "source": [
    "#### Train-Test Split"
   ]
  },
  {
   "cell_type": "code",
   "execution_count": 110,
   "metadata": {},
   "outputs": [],
   "source": [
    "price = full['price']"
   ]
  },
  {
   "cell_type": "code",
   "execution_count": 111,
   "metadata": {},
   "outputs": [],
   "source": [
    "x_train , x_test , y_train , y_test = train_test_split(scaled, price, test_size = 0.2,random_state =42)"
   ]
  },
  {
   "cell_type": "code",
   "execution_count": 112,
   "metadata": {},
   "outputs": [
    {
     "name": "stdout",
     "output_type": "stream",
     "text": [
      "(213653, 43)\n",
      "(213653,)\n"
     ]
    }
   ],
   "source": [
    "print(x_train.shape)\n",
    "print(y_train.shape)"
   ]
  },
  {
   "cell_type": "markdown",
   "metadata": {},
   "source": [
    "## Modeling"
   ]
  },
  {
   "cell_type": "markdown",
   "metadata": {},
   "source": [
    "#### Linear Regression"
   ]
  },
  {
   "cell_type": "code",
   "execution_count": 113,
   "metadata": {},
   "outputs": [
    {
     "name": "stdout",
     "output_type": "stream",
     "text": [
      "0.7441263021085514\n",
      "1.0\n"
     ]
    }
   ],
   "source": [
    "from sklearn.linear_model import LinearRegression\n",
    "\n",
    "reg = LinearRegression()\n",
    "reg.fit(x_train, y_train)\n",
    "y_pred_lin = reg.predict(x_test)\n",
    "print(reg.score(x_test, y_test))\n",
    "print(reg.score(x_test, y_pred_lin))"
   ]
  },
  {
   "cell_type": "code",
   "execution_count": 114,
   "metadata": {},
   "outputs": [
    {
     "data": {
      "text/plain": [
       "<matplotlib.collections.PathCollection at 0x1b447ef4808>"
      ]
     },
     "execution_count": 114,
     "metadata": {},
     "output_type": "execute_result"
    },
    {
     "data": {
      "image/png": "[encoded data removed]",
      "text/plain": [
       "<Figure size 432x288 with 1 Axes>"
      ]
     },
     "metadata": {
      "needs_background": "light"
     },
     "output_type": "display_data"
    }
   ],
   "source": [
    "plt.scatter(y_test, y_pred_lin)"
   ]
  },
  {
   "cell_type": "code",
   "execution_count": 115,
   "metadata": {},
   "outputs": [
    {
     "name": "stdout",
     "output_type": "stream",
     "text": [
      "Mean absolute error = 3910.62\n",
      "Mean squared error = 27052164.51\n",
      "Median absolute error = 3074.9\n",
      "Explain variance score = 0.74\n",
      "R2 score = 0.74\n"
     ]
    }
   ],
   "source": [
    "import sklearn.metrics as sm\n",
    "\n",
    "print(\"Mean absolute error =\", round(sm.mean_absolute_error(y_test, y_pred_lin), 2)) \n",
    "print(\"Mean squared error =\", round(sm.mean_squared_error(y_test, y_pred_lin), 2)) \n",
    "print(\"Median absolute error =\", round(sm.median_absolute_error(y_test, y_pred_lin), 2)) \n",
    "print(\"Explain variance score =\", round(sm.explained_variance_score(y_test, y_pred_lin), 2)) \n",
    "print(\"R2 score =\", round(sm.r2_score(y_test, y_pred_lin), 2))"
   ]
  },
  {
   "cell_type": "code",
   "execution_count": 116,
   "metadata": {},
   "outputs": [
    {
     "name": "stdout",
     "output_type": "stream",
     "text": [
      "[0.7404198  0.74066599 0.74139582 0.74451056 0.738155  ]\n"
     ]
    },
    {
     "data": {
      "text/plain": [
       "0.7410294323920137"
      ]
     },
     "execution_count": 116,
     "metadata": {},
     "output_type": "execute_result"
    }
   ],
   "source": [
    "from sklearn.model_selection import cross_val_score\n",
    "\n",
    "reg = LinearRegression()\n",
    "cv_results = cross_val_score(reg, x_train, y_train, cv=5)\n",
    "print(cv_results)\n",
    "np.mean(cv_results)"
   ]
  },
  {
   "cell_type": "markdown",
   "metadata": {},
   "source": [
    "#### Decision Tree"
   ]
  },
  {
   "cell_type": "code",
   "execution_count": 117,
   "metadata": {},
   "outputs": [
    {
     "name": "stdout",
     "output_type": "stream",
     "text": [
      "0.9929974500036859\n",
      "1.0\n"
     ]
    }
   ],
   "source": [
    "from sklearn.tree import DecisionTreeRegressor\n",
    "\n",
    "dt_reg = DecisionTreeRegressor()\n",
    "dt_reg.fit(x_train, y_train)\n",
    "y_pred_dt = dt_reg.predict(x_test)\n",
    "print(dt_reg.score(x_test, y_test))\n",
    "print(dt_reg.score(x_test, y_pred_dt))"
   ]
  },
  {
   "cell_type": "code",
   "execution_count": 118,
   "metadata": {},
   "outputs": [
    {
     "name": "stdout",
     "output_type": "stream",
     "text": [
      "Mean absolute error = 89.33\n",
      "Mean squared error = 740342.35\n",
      "Median absolute error = 0.0\n",
      "Explain variance score = 0.99\n",
      "R2 score = 0.99\n"
     ]
    }
   ],
   "source": [
    "print(\"Mean absolute error =\", round(sm.mean_absolute_error(y_test, y_pred_dt), 2)) \n",
    "print(\"Mean squared error =\", round(sm.mean_squared_error(y_test, y_pred_dt), 2)) \n",
    "print(\"Median absolute error =\", round(sm.median_absolute_error(y_test, y_pred_dt), 2)) \n",
    "print(\"Explain variance score =\", round(sm.explained_variance_score(y_test, y_pred_dt), 2)) \n",
    "print(\"R2 score =\", round(sm.r2_score(y_test, y_pred_dt), 2))"
   ]
  },
  {
   "cell_type": "code",
   "execution_count": 119,
   "metadata": {},
   "outputs": [
    {
     "name": "stdout",
     "output_type": "stream",
     "text": [
      "[0.99248478 0.99243984 0.9920234  0.99134877 0.98930854]\n"
     ]
    },
    {
     "data": {
      "text/plain": [
       "0.9915210665002201"
      ]
     },
     "execution_count": 119,
     "metadata": {},
     "output_type": "execute_result"
    }
   ],
   "source": [
    "dt_reg = DecisionTreeRegressor()\n",
    "cv_results = cross_val_score(dt_reg, x_train, y_train, cv=5)\n",
    "print(cv_results)\n",
    "np.mean(cv_results)"
   ]
  },
  {
   "cell_type": "code",
   "execution_count": 120,
   "metadata": {},
   "outputs": [
    {
     "data": {
      "text/plain": [
       "{'max_depth': 10, 'max_features': 5}"
      ]
     },
     "execution_count": 120,
     "metadata": {},
     "output_type": "execute_result"
    }
   ],
   "source": [
    "from sklearn.model_selection import GridSearchCV\n",
    "\n",
    "dt_reg = DecisionTreeRegressor()\n",
    "paramters = {\"max_features\": [3, 4, 5], \"max_depth\":[2,4,6,8,10]}\n",
    "dt_cv = GridSearchCV(dt_reg, paramters, cv=5)\n",
    "dt_cv.fit(x_train, y_train)\n",
    "dt_cv.best_params_"
   ]
  },
  {
   "cell_type": "code",
   "execution_count": 122,
   "metadata": {},
   "outputs": [
    {
     "name": "stdout",
     "output_type": "stream",
     "text": [
      "train score: 0.7213166433748365\n",
      "test score: 0.7222674111622622\n",
      "average validation score: 0.7149872292281975\n"
     ]
    }
   ],
   "source": [
    "from sklearn.model_selection import cross_validate\n",
    "\n",
    "dt_reg = DecisionTreeRegressor(max_features=5, max_depth=10)\n",
    "dt_reg.fit(x_train, y_train)\n",
    "print(\"train score:\", dt_reg.score(x_train, y_train))\n",
    "print(\"test score:\", dt_reg.score(x_test, y_test))\n",
    "print(\"average validation score:\", (cross_validate(dt_reg, x_train, y_train, cv=5)[\"test_score\"]).mean())"
   ]
  },
  {
   "cell_type": "markdown",
   "metadata": {},
   "source": [
    "#### Random Forest"
   ]
  },
  {
   "cell_type": "code",
   "execution_count": 123,
   "metadata": {},
   "outputs": [
    {
     "name": "stdout",
     "output_type": "stream",
     "text": [
      "0.9942612931457928\n",
      "1.0\n"
     ]
    }
   ],
   "source": [
    "from sklearn.ensemble import RandomForestRegressor\n",
    "\n",
    "rf = RandomForestRegressor()\n",
    "rf.fit(x_train, y_train)\n",
    "y_pred_rf = rf.predict(x_test)\n",
    "print(rf.score(x_test, y_test))\n",
    "print(rf.score(x_test, y_pred_rf))"
   ]
  },
  {
   "cell_type": "code",
   "execution_count": 124,
   "metadata": {},
   "outputs": [
    {
     "name": "stdout",
     "output_type": "stream",
     "text": [
      "Mean absolute error = 107.3\n",
      "Mean squared error = 606722.94\n",
      "Median absolute error = 0.0\n",
      "Explain variance score = 0.99\n",
      "R2 score = 0.99\n"
     ]
    }
   ],
   "source": [
    "print(\"Mean absolute error =\", round(sm.mean_absolute_error(y_test, y_pred_rf), 2)) \n",
    "print(\"Mean squared error =\", round(sm.mean_squared_error(y_test, y_pred_rf), 2)) \n",
    "print(\"Median absolute error =\", round(sm.median_absolute_error(y_test, y_pred_rf), 2)) \n",
    "print(\"Explain variance score =\", round(sm.explained_variance_score(y_test, y_pred_rf), 2)) \n",
    "print(\"R2 score =\", round(sm.r2_score(y_test, y_pred_rf), 2))"
   ]
  },
  {
   "cell_type": "code",
   "execution_count": 138,
   "metadata": {},
   "outputs": [
    {
     "data": {
      "text/plain": [
       "(53414, 43)"
      ]
     },
     "execution_count": 138,
     "metadata": {},
     "output_type": "execute_result"
    }
   ],
   "source": [
    "x_test.shape"
   ]
  },
  {
   "cell_type": "code",
   "execution_count": 144,
   "metadata": {},
   "outputs": [
    {
     "name": "stdout",
     "output_type": "stream",
     "text": [
      "[ 8339.14408001 34531.64555215  8547.45809411 14827.76557932\n",
      "  8102.69364713]\n"
     ]
    }
   ],
   "source": [
    "sanity_test = x_test.iloc[5:10]\n",
    "rf.fit(x_train, y_train)\n",
    "sanity_pred = rf.predict(sanity_test)\n",
    "print(sanity_pred)"
   ]
  },
  {
   "cell_type": "code",
   "execution_count": 146,
   "metadata": {},
   "outputs": [
    {
     "name": "stdout",
     "output_type": "stream",
     "text": [
      "184160     8995\n",
      "222337    27000\n",
      "154112     8995\n",
      "201946    18999\n",
      "194022     7999\n",
      "Name: price, dtype: int32\n"
     ]
    }
   ],
   "source": [
    "print(y_test.iloc[5:10])"
   ]
  },
  {
   "cell_type": "code",
   "execution_count": 128,
   "metadata": {},
   "outputs": [
    {
     "name": "stdout",
     "output_type": "stream",
     "text": [
      "[0.99368567 0.99380064 0.99351186 0.99309971 0.99094343]\n"
     ]
    },
    {
     "data": {
      "text/plain": [
       "0.9930082617187272"
      ]
     },
     "execution_count": 128,
     "metadata": {},
     "output_type": "execute_result"
    }
   ],
   "source": [
    "rf = RandomForestRegressor()\n",
    "cv_results = cross_val_score(rf, x_train, y_train, cv=5)\n",
    "print(cv_results)\n",
    "np.mean(cv_results)"
   ]
  },
  {
   "cell_type": "code",
   "execution_count": 129,
   "metadata": {},
   "outputs": [
    {
     "data": {
      "text/plain": [
       "{'max_depth': 10, 'n_estimators': 100}"
      ]
     },
     "execution_count": 129,
     "metadata": {},
     "output_type": "execute_result"
    }
   ],
   "source": [
    "from sklearn.model_selection import GridSearchCV\n",
    "\n",
    "rf = RandomForestRegressor()\n",
    "paramters = {\"n_estimators\": [100, 200, 300], \"max_depth\":[2,4,6,8,10]}\n",
    "rf_cv = GridSearchCV(rf, paramters, cv=5)\n",
    "rf_cv.fit(x_train, y_train)\n",
    "rf_cv.best_params_"
   ]
  },
  {
   "cell_type": "code",
   "execution_count": 130,
   "metadata": {},
   "outputs": [
    {
     "name": "stdout",
     "output_type": "stream",
     "text": [
      "train score: 0.8850127430455778\n",
      "test score: 0.88474768660803\n",
      "average validation score: 0.8839143601953501\n"
     ]
    }
   ],
   "source": [
    "from sklearn.model_selection import cross_validate\n",
    "\n",
    "rf = RandomForestRegressor(n_estimators=200, max_depth=10)\n",
    "rf.fit(x_train, y_train)\n",
    "print(\"train score:\", rf.score(x_train, y_train))\n",
    "print(\"test score:\", rf.score(x_test, y_test))\n",
    "print(\"average validation score:\", (cross_validate(rf, x_train, y_train, cv=5)[\"test_score\"]).mean())"
   ]
  },
  {
   "cell_type": "markdown",
   "metadata": {},
   "source": [
    "#### Gradient Boosting"
   ]
  },
  {
   "cell_type": "code",
   "execution_count": 131,
   "metadata": {},
   "outputs": [
    {
     "name": "stdout",
     "output_type": "stream",
     "text": [
      "0.8357765227362856\n",
      "1.0\n"
     ]
    }
   ],
   "source": [
    "from sklearn.ensemble import GradientBoostingRegressor\n",
    "\n",
    "gb = GradientBoostingRegressor()\n",
    "gb.fit(x_train, y_train)\n",
    "y_pred_gb = gb.predict(x_test)\n",
    "print(gb.score(x_test, y_test))\n",
    "print(gb.score(x_test, y_pred_gb))"
   ]
  },
  {
   "cell_type": "code",
   "execution_count": 132,
   "metadata": {},
   "outputs": [
    {
     "name": "stdout",
     "output_type": "stream",
     "text": [
      "Mean absolute error = 3017.32\n",
      "Mean squared error = 17362474.38\n",
      "Median absolute error = 2272.67\n",
      "Explain variance score = 0.84\n",
      "R2 score = 0.84\n"
     ]
    }
   ],
   "source": [
    "print(\"Mean absolute error =\", round(sm.mean_absolute_error(y_test, y_pred_gb), 2)) \n",
    "print(\"Mean squared error =\", round(sm.mean_squared_error(y_test, y_pred_gb), 2)) \n",
    "print(\"Median absolute error =\", round(sm.median_absolute_error(y_test, y_pred_gb), 2)) \n",
    "print(\"Explain variance score =\", round(sm.explained_variance_score(y_test, y_pred_gb), 2)) \n",
    "print(\"R2 score =\", round(sm.r2_score(y_test, y_pred_gb), 2))"
   ]
  },
  {
   "cell_type": "code",
   "execution_count": 133,
   "metadata": {},
   "outputs": [
    {
     "name": "stdout",
     "output_type": "stream",
     "text": [
      "[0.83179838 0.83347906 0.83320764 0.83352328 0.82695547]\n"
     ]
    },
    {
     "data": {
      "text/plain": [
       "0.8317927667210203"
      ]
     },
     "execution_count": 133,
     "metadata": {},
     "output_type": "execute_result"
    }
   ],
   "source": [
    "gb = GradientBoostingRegressor()\n",
    "cv_results = cross_val_score(gb, x_train, y_train, cv=5)\n",
    "print(cv_results)\n",
    "np.mean(cv_results)"
   ]
  },
  {
   "cell_type": "code",
   "execution_count": 134,
   "metadata": {},
   "outputs": [
    {
     "data": {
      "text/plain": [
       "{'max_depth': 10, 'n_estimators': 300}"
      ]
     },
     "execution_count": 134,
     "metadata": {},
     "output_type": "execute_result"
    }
   ],
   "source": [
    "gb = GradientBoostingRegressor()\n",
    "paramters = {\"n_estimators\": [100, 200, 300], \"max_depth\":[2,4,6,8,10]}\n",
    "gb_cv = GridSearchCV(gb, paramters, cv=5)\n",
    "gb_cv.fit(x_train, y_train)\n",
    "gb_cv.best_params_"
   ]
  },
  {
   "cell_type": "code",
   "execution_count": 135,
   "metadata": {},
   "outputs": [
    {
     "name": "stdout",
     "output_type": "stream",
     "text": [
      "train score: 0.9902919329204866\n",
      "test score: 0.988795378841026\n",
      "average validation score: 0.9867725695710545\n"
     ]
    }
   ],
   "source": [
    "gb = GradientBoostingRegressor(n_estimators=300, max_depth=10)\n",
    "gb.fit(x_train, y_train)\n",
    "print(\"train score:\", gb.score(x_train, y_train))\n",
    "print(\"test score:\", gb.score(x_test, y_test))\n",
    "print(\"average validation score:\", (cross_validate(gb, x_train, y_train, cv=5)[\"test_score\"]).mean())"
   ]
  },
  {
   "cell_type": "markdown",
   "metadata": {},
   "source": [
    "## Conclusion"
   ]
  },
  {
   "cell_type": "markdown",
   "metadata": {},
   "source": [
    "The random Forest and Decision Tree model had high accuracy scores but after using cross-validation, the scores decreased in comparison to the original test score. These models can be found to be overfitting and will not be used. The gradient boosting model had the highest average validation score of 98.6% after using cross-validation. "
   ]
  },
  {
   "cell_type": "markdown",
   "metadata": {},
   "source": [
    "#### Future Improvements: "
   ]
  },
  {
   "cell_type": "markdown",
   "metadata": {},
   "source": [
    "   - Many of the vehicle listings are subjective conditions. A standard scaling method can be method to have a more consistent data set, which will make the estimated prices be more consistent with the market. \n",
    "   - Use the model for seller and buyers to input their own preferences to find an estimated price value. "
   ]
  },
  {
   "cell_type": "code",
   "execution_count": null,
   "metadata": {},
   "outputs": [],
   "source": []
  }
 ],
 "metadata": {
  "kernelspec": {
   "display_name": "Python 3",
   "language": "python",
   "name": "python3"
  },
  "language_info": {
   "codemirror_mode": {
    "name": "ipython",
    "version": 3
   },
   "file_extension": ".py",
   "mimetype": "text/x-python",
   "name": "python",
   "nbconvert_exporter": "python",
   "pygments_lexer": "ipython3",
   "version": "3.7.6"
  }
 },
 "nbformat": 4,
 "nbformat_minor": 4
}
